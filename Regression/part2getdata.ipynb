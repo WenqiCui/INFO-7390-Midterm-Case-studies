{
 "cells": [
  {
   "cell_type": "code",
   "execution_count": 1,
   "metadata": {},
   "outputs": [],
   "source": [
    "import requests\n",
    "import urllib\n",
    "import os\n",
    "from bs4 import BeautifulSoup\n",
    "import http.cookiejar\n",
    "import shutil\n",
    "import pandas as pd\n",
    "import matplotlib.pyplot as plt"
   ]
  },
  {
   "cell_type": "code",
   "execution_count": 28,
   "metadata": {},
   "outputs": [],
   "source": [
    "url = 'https://freddiemac.embs.com/FLoan/Data/download.php'\n",
    "cookie={'PHPSESSID':'11vr6kgl2a9lt7b8if0mv08vq0'}\n",
    "r = requests.post(url,cookies=cookie)\n",
    "content=r.content\n",
    "soup = BeautifulSoup(content,'lxml')\n",
    "all_href = soup.find_all('a')\n",
    "\n",
    "i=0;\n",
    "dww=['Q12016','Q22016','Q32016','Q42016','Q12017']\n",
    "lod=len(dww)\n",
    "url_list=['https://freddiemac.embs.com/FLoan/Data/']*lod\n",
    "\n",
    "for href in all_href:\n",
    "    for s in dww:\n",
    "        if s in href['href']:\n",
    "            url_list[i]=url_list[i]+href['href']\n",
    "            i+=1    \n",
    "\n"
   ]
  },
  {
   "cell_type": "code",
   "execution_count": 29,
   "metadata": {},
   "outputs": [],
   "source": [
    "if (not os.path.exists('datapart2')):\n",
    "    os.mkdir('datapart2')\n",
    "os.chdir('datapart2')\n"
   ]
  },
  {
   "cell_type": "code",
   "execution_count": 30,
   "metadata": {},
   "outputs": [],
   "source": [
    "for i in range(len(url_list)):\n",
    "    r = requests.get(url_list[i],cookies=cookie)\n",
    "    with open(url_list[i][71:77]+'.zip','wb') as code:\n",
    "        code.write(r.content)"
   ]
  },
  {
   "cell_type": "code",
   "execution_count": 31,
   "metadata": {},
   "outputs": [],
   "source": [
    "files= os.listdir()\n",
    "for file in files:\n",
    "    for docu in dww:\n",
    "        if ('.zip' in file) and (docu in file):\n",
    "            shutil.unpack_archive(file)"
   ]
  },
  {
   "cell_type": "code",
   "execution_count": 32,
   "metadata": {},
   "outputs": [],
   "source": [
    "os.chdir('..')"
   ]
  },
  {
   "cell_type": "code",
   "execution_count": 33,
   "metadata": {},
   "outputs": [
    {
     "data": {
      "text/plain": [
       "'C:\\\\Users\\\\wenqi\\\\Desktop\\\\7390\\\\mid'"
      ]
     },
     "execution_count": 33,
     "metadata": {},
     "output_type": "execute_result"
    }
   ],
   "source": [
    "os.getcwd()"
   ]
  },
  {
   "cell_type": "code",
   "execution_count": null,
   "metadata": {},
   "outputs": [],
   "source": []
  }
 ],
 "metadata": {
  "kernelspec": {
   "display_name": "Python 3",
   "language": "python",
   "name": "python3"
  },
  "language_info": {
   "codemirror_mode": {
    "name": "ipython",
    "version": 3
   },
   "file_extension": ".py",
   "mimetype": "text/x-python",
   "name": "python",
   "nbconvert_exporter": "python",
   "pygments_lexer": "ipython3",
   "version": "3.6.5"
  }
 },
 "nbformat": 4,
 "nbformat_minor": 2
}
