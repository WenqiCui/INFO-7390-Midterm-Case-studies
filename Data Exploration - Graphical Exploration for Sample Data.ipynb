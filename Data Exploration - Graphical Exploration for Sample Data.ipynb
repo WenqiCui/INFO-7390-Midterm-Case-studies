{
 "cells": [
  {
   "cell_type": "code",
   "execution_count": 1,
   "metadata": {},
   "outputs": [],
   "source": [
    "#Assignment 3"
   ]
  },
  {
   "cell_type": "code",
   "execution_count": 74,
   "metadata": {},
   "outputs": [],
   "source": [
    "import pandas as pd\n",
    "import matplotlib.pyplot as plt\n",
    "import numpy as np\n",
    "import urllib\n",
    "import urllib.request\n",
    "# for vizualizations\n",
    "%matplotlib inline \n",
    "import matplotlib.pyplot as plt\n",
    "from matplotlib import cm as cm\n",
    "from mpl_toolkits.mplot3d import Axes3D\n",
    "import seaborn as sns\n",
    "sns.set()"
   ]
  },
  {
   "cell_type": "code",
   "execution_count": 75,
   "metadata": {},
   "outputs": [
    {
     "data": {
      "text/html": [
       "<div>\n",
       "<style scoped>\n",
       "    .dataframe tbody tr th:only-of-type {\n",
       "        vertical-align: middle;\n",
       "    }\n",
       "\n",
       "    .dataframe tbody tr th {\n",
       "        vertical-align: top;\n",
       "    }\n",
       "\n",
       "    .dataframe thead th {\n",
       "        text-align: right;\n",
       "    }\n",
       "</style>\n",
       "<table border=\"1\" class=\"dataframe\">\n",
       "  <thead>\n",
       "    <tr style=\"text-align: right;\">\n",
       "      <th></th>\n",
       "      <th>750</th>\n",
       "      <th>200205</th>\n",
       "      <th>N</th>\n",
       "      <th>203004</th>\n",
       "      <th>Unnamed: 4</th>\n",
       "      <th>000</th>\n",
       "      <th>1</th>\n",
       "      <th>P</th>\n",
       "      <th>49</th>\n",
       "      <th>21</th>\n",
       "      <th>...</th>\n",
       "      <th>WI</th>\n",
       "      <th>SF</th>\n",
       "      <th>53000</th>\n",
       "      <th>F100Q1000004</th>\n",
       "      <th>P.1</th>\n",
       "      <th>336</th>\n",
       "      <th>02</th>\n",
       "      <th>Other sellers</th>\n",
       "      <th>Other servicers</th>\n",
       "      <th>Unnamed: 25</th>\n",
       "    </tr>\n",
       "  </thead>\n",
       "  <tbody>\n",
       "    <tr>\n",
       "      <th>0</th>\n",
       "      <td>698</td>\n",
       "      <td>200210</td>\n",
       "      <td>N</td>\n",
       "      <td>203003</td>\n",
       "      <td>15940.0</td>\n",
       "      <td>0</td>\n",
       "      <td>1</td>\n",
       "      <td>P</td>\n",
       "      <td>78</td>\n",
       "      <td>25</td>\n",
       "      <td>...</td>\n",
       "      <td>OH</td>\n",
       "      <td>SF</td>\n",
       "      <td>44700.0</td>\n",
       "      <td>F100Q1000012</td>\n",
       "      <td>C</td>\n",
       "      <td>330</td>\n",
       "      <td>2</td>\n",
       "      <td>Other sellers</td>\n",
       "      <td>Other servicers</td>\n",
       "      <td>NaN</td>\n",
       "    </tr>\n",
       "    <tr>\n",
       "      <th>1</th>\n",
       "      <td>708</td>\n",
       "      <td>200210</td>\n",
       "      <td>N</td>\n",
       "      <td>203003</td>\n",
       "      <td>33340.0</td>\n",
       "      <td>25</td>\n",
       "      <td>1</td>\n",
       "      <td>P</td>\n",
       "      <td>88</td>\n",
       "      <td>38</td>\n",
       "      <td>...</td>\n",
       "      <td>WI</td>\n",
       "      <td>SF</td>\n",
       "      <td>53000.0</td>\n",
       "      <td>F100Q1000016</td>\n",
       "      <td>P</td>\n",
       "      <td>330</td>\n",
       "      <td>2</td>\n",
       "      <td>Other sellers</td>\n",
       "      <td>Other servicers</td>\n",
       "      <td>NaN</td>\n",
       "    </tr>\n",
       "    <tr>\n",
       "      <th>2</th>\n",
       "      <td>813</td>\n",
       "      <td>200302</td>\n",
       "      <td>N</td>\n",
       "      <td>203004</td>\n",
       "      <td>15380.0</td>\n",
       "      <td>0</td>\n",
       "      <td>1</td>\n",
       "      <td>P</td>\n",
       "      <td>78</td>\n",
       "      <td>22</td>\n",
       "      <td>...</td>\n",
       "      <td>NY</td>\n",
       "      <td>SF</td>\n",
       "      <td>14200.0</td>\n",
       "      <td>F100Q1000024</td>\n",
       "      <td>P</td>\n",
       "      <td>327</td>\n",
       "      <td>2</td>\n",
       "      <td>Other sellers</td>\n",
       "      <td>Other servicers</td>\n",
       "      <td>NaN</td>\n",
       "    </tr>\n",
       "    <tr>\n",
       "      <th>3</th>\n",
       "      <td>734</td>\n",
       "      <td>200004</td>\n",
       "      <td>N</td>\n",
       "      <td>203003</td>\n",
       "      <td>36740.0</td>\n",
       "      <td>17</td>\n",
       "      <td>1</td>\n",
       "      <td>P</td>\n",
       "      <td>90</td>\n",
       "      <td>40</td>\n",
       "      <td>...</td>\n",
       "      <td>FL</td>\n",
       "      <td>SF</td>\n",
       "      <td>32700.0</td>\n",
       "      <td>F100Q1000033</td>\n",
       "      <td>P</td>\n",
       "      <td>360</td>\n",
       "      <td>1</td>\n",
       "      <td>Other sellers</td>\n",
       "      <td>CHASEMTGECO</td>\n",
       "      <td>NaN</td>\n",
       "    </tr>\n",
       "    <tr>\n",
       "      <th>4</th>\n",
       "      <td>756</td>\n",
       "      <td>200004</td>\n",
       "      <td>N</td>\n",
       "      <td>203003</td>\n",
       "      <td>30020.0</td>\n",
       "      <td>0</td>\n",
       "      <td>1</td>\n",
       "      <td>P</td>\n",
       "      <td>79</td>\n",
       "      <td>9</td>\n",
       "      <td>...</td>\n",
       "      <td>OK</td>\n",
       "      <td>SF</td>\n",
       "      <td>73500.0</td>\n",
       "      <td>F100Q1000066</td>\n",
       "      <td>P</td>\n",
       "      <td>360</td>\n",
       "      <td>2</td>\n",
       "      <td>BANKOFAMERICA,NA</td>\n",
       "      <td>BANKOFAMERICA,NA</td>\n",
       "      <td>NaN</td>\n",
       "    </tr>\n",
       "  </tbody>\n",
       "</table>\n",
       "<p>5 rows × 26 columns</p>\n",
       "</div>"
      ],
      "text/plain": [
       "   750  200205  N  203004  Unnamed: 4  000  1  P  49  21     ...      WI  SF  \\\n",
       "0  698  200210  N  203003     15940.0    0  1  P  78  25     ...      OH  SF   \n",
       "1  708  200210  N  203003     33340.0   25  1  P  88  38     ...      WI  SF   \n",
       "2  813  200302  N  203004     15380.0    0  1  P  78  22     ...      NY  SF   \n",
       "3  734  200004  N  203003     36740.0   17  1  P  90  40     ...      FL  SF   \n",
       "4  756  200004  N  203003     30020.0    0  1  P  79   9     ...      OK  SF   \n",
       "\n",
       "     53000  F100Q1000004 P.1  336 02     Other sellers   Other servicers  \\\n",
       "0  44700.0  F100Q1000012   C  330  2     Other sellers   Other servicers   \n",
       "1  53000.0  F100Q1000016   P  330  2     Other sellers   Other servicers   \n",
       "2  14200.0  F100Q1000024   P  327  2     Other sellers   Other servicers   \n",
       "3  32700.0  F100Q1000033   P  360  1     Other sellers       CHASEMTGECO   \n",
       "4  73500.0  F100Q1000066   P  360  2  BANKOFAMERICA,NA  BANKOFAMERICA,NA   \n",
       "\n",
       "  Unnamed: 25  \n",
       "0         NaN  \n",
       "1         NaN  \n",
       "2         NaN  \n",
       "3         NaN  \n",
       "4         NaN  \n",
       "\n",
       "[5 rows x 26 columns]"
      ]
     },
     "execution_count": 75,
     "metadata": {},
     "output_type": "execute_result"
    }
   ],
   "source": [
    "#importing the dataset\n",
    "df = pd.read_csv('sample_orig_2000.txt', sep=\"|\")\n",
    "df.columns = df.columns.str.strip()\n",
    "df.head()"
   ]
  },
  {
   "cell_type": "code",
   "execution_count": 76,
   "metadata": {},
   "outputs": [
    {
     "data": {
      "text/plain": [
       "(49999, 26)"
      ]
     },
     "execution_count": 76,
     "metadata": {},
     "output_type": "execute_result"
    }
   ],
   "source": [
    "# Shape of the dataset\n",
    "df.shape"
   ]
  },
  {
   "cell_type": "code",
   "execution_count": 77,
   "metadata": {},
   "outputs": [],
   "source": [
    "df.columns = [\"CREDIT SCORE\",\"FIRST PAYMENT DATE\",\"FIRST TIME HOMEBUYER FLAG\",\"MATURITY DATE\",\"METROPOLITAN STATISTICAL AREA\",\n",
    "               \"MORTGAGE INSURANCE PERCENTAGE\",\"NUMBER OF UNITS\",\"OCCUPANCY STATUS\",\"ORIGINAL COMBINED LOAN-TO-VALU\",\"ORIGINAL DEBT-TO-INCOME (DTI) RATIO\",\n",
    "               \"ORIGINAL UPB\",\"ORIGINAL LOAN-TO-VALUE\",\"ORIGINAL INTEREST RATE\",\"CHANNE\",\"PREPAYMENT PENALTY MORTGAGE FLAG\",\n",
    "               \"PRODUCT TYPE\",\"PROPERTY STATE\",\"PROPERTY TYPE\",\"POSTAL CODE\",\"LOAN SEQUENCE NUMBER\",\"LOAN PURPOSE\",\n",
    "               \"ORIGINAL LOAN TERM\",\"NUMBER OF BORROWERS\",\"SELLER NAME\",\"SERVICER NAME\",\"SUPER CONFORMING FLAG\"]\n",
    "                #\"Pre-HARP LOAN SEQUENCE NUMBER\"]"
   ]
  },
  {
   "cell_type": "code",
   "execution_count": 78,
   "metadata": {},
   "outputs": [
    {
     "data": {
      "text/html": [
       "<div>\n",
       "<style scoped>\n",
       "    .dataframe tbody tr th:only-of-type {\n",
       "        vertical-align: middle;\n",
       "    }\n",
       "\n",
       "    .dataframe tbody tr th {\n",
       "        vertical-align: top;\n",
       "    }\n",
       "\n",
       "    .dataframe thead th {\n",
       "        text-align: right;\n",
       "    }\n",
       "</style>\n",
       "<table border=\"1\" class=\"dataframe\">\n",
       "  <thead>\n",
       "    <tr style=\"text-align: right;\">\n",
       "      <th></th>\n",
       "      <th>CREDIT SCORE</th>\n",
       "      <th>FIRST PAYMENT DATE</th>\n",
       "      <th>FIRST TIME HOMEBUYER FLAG</th>\n",
       "      <th>MATURITY DATE</th>\n",
       "      <th>METROPOLITAN STATISTICAL AREA</th>\n",
       "      <th>MORTGAGE INSURANCE PERCENTAGE</th>\n",
       "      <th>NUMBER OF UNITS</th>\n",
       "      <th>OCCUPANCY STATUS</th>\n",
       "      <th>ORIGINAL COMBINED LOAN-TO-VALU</th>\n",
       "      <th>ORIGINAL DEBT-TO-INCOME (DTI) RATIO</th>\n",
       "      <th>...</th>\n",
       "      <th>PROPERTY STATE</th>\n",
       "      <th>PROPERTY TYPE</th>\n",
       "      <th>POSTAL CODE</th>\n",
       "      <th>LOAN SEQUENCE NUMBER</th>\n",
       "      <th>LOAN PURPOSE</th>\n",
       "      <th>ORIGINAL LOAN TERM</th>\n",
       "      <th>NUMBER OF BORROWERS</th>\n",
       "      <th>SELLER NAME</th>\n",
       "      <th>SERVICER NAME</th>\n",
       "      <th>SUPER CONFORMING FLAG</th>\n",
       "    </tr>\n",
       "  </thead>\n",
       "  <tbody>\n",
       "    <tr>\n",
       "      <th>0</th>\n",
       "      <td>698</td>\n",
       "      <td>200210</td>\n",
       "      <td>N</td>\n",
       "      <td>203003</td>\n",
       "      <td>15940.0</td>\n",
       "      <td>0</td>\n",
       "      <td>1</td>\n",
       "      <td>P</td>\n",
       "      <td>78</td>\n",
       "      <td>25</td>\n",
       "      <td>...</td>\n",
       "      <td>OH</td>\n",
       "      <td>SF</td>\n",
       "      <td>44700.0</td>\n",
       "      <td>F100Q1000012</td>\n",
       "      <td>C</td>\n",
       "      <td>330</td>\n",
       "      <td>2</td>\n",
       "      <td>Other sellers</td>\n",
       "      <td>Other servicers</td>\n",
       "      <td>NaN</td>\n",
       "    </tr>\n",
       "    <tr>\n",
       "      <th>1</th>\n",
       "      <td>708</td>\n",
       "      <td>200210</td>\n",
       "      <td>N</td>\n",
       "      <td>203003</td>\n",
       "      <td>33340.0</td>\n",
       "      <td>25</td>\n",
       "      <td>1</td>\n",
       "      <td>P</td>\n",
       "      <td>88</td>\n",
       "      <td>38</td>\n",
       "      <td>...</td>\n",
       "      <td>WI</td>\n",
       "      <td>SF</td>\n",
       "      <td>53000.0</td>\n",
       "      <td>F100Q1000016</td>\n",
       "      <td>P</td>\n",
       "      <td>330</td>\n",
       "      <td>2</td>\n",
       "      <td>Other sellers</td>\n",
       "      <td>Other servicers</td>\n",
       "      <td>NaN</td>\n",
       "    </tr>\n",
       "    <tr>\n",
       "      <th>2</th>\n",
       "      <td>813</td>\n",
       "      <td>200302</td>\n",
       "      <td>N</td>\n",
       "      <td>203004</td>\n",
       "      <td>15380.0</td>\n",
       "      <td>0</td>\n",
       "      <td>1</td>\n",
       "      <td>P</td>\n",
       "      <td>78</td>\n",
       "      <td>22</td>\n",
       "      <td>...</td>\n",
       "      <td>NY</td>\n",
       "      <td>SF</td>\n",
       "      <td>14200.0</td>\n",
       "      <td>F100Q1000024</td>\n",
       "      <td>P</td>\n",
       "      <td>327</td>\n",
       "      <td>2</td>\n",
       "      <td>Other sellers</td>\n",
       "      <td>Other servicers</td>\n",
       "      <td>NaN</td>\n",
       "    </tr>\n",
       "    <tr>\n",
       "      <th>3</th>\n",
       "      <td>734</td>\n",
       "      <td>200004</td>\n",
       "      <td>N</td>\n",
       "      <td>203003</td>\n",
       "      <td>36740.0</td>\n",
       "      <td>17</td>\n",
       "      <td>1</td>\n",
       "      <td>P</td>\n",
       "      <td>90</td>\n",
       "      <td>40</td>\n",
       "      <td>...</td>\n",
       "      <td>FL</td>\n",
       "      <td>SF</td>\n",
       "      <td>32700.0</td>\n",
       "      <td>F100Q1000033</td>\n",
       "      <td>P</td>\n",
       "      <td>360</td>\n",
       "      <td>1</td>\n",
       "      <td>Other sellers</td>\n",
       "      <td>CHASEMTGECO</td>\n",
       "      <td>NaN</td>\n",
       "    </tr>\n",
       "    <tr>\n",
       "      <th>4</th>\n",
       "      <td>756</td>\n",
       "      <td>200004</td>\n",
       "      <td>N</td>\n",
       "      <td>203003</td>\n",
       "      <td>30020.0</td>\n",
       "      <td>0</td>\n",
       "      <td>1</td>\n",
       "      <td>P</td>\n",
       "      <td>79</td>\n",
       "      <td>9</td>\n",
       "      <td>...</td>\n",
       "      <td>OK</td>\n",
       "      <td>SF</td>\n",
       "      <td>73500.0</td>\n",
       "      <td>F100Q1000066</td>\n",
       "      <td>P</td>\n",
       "      <td>360</td>\n",
       "      <td>2</td>\n",
       "      <td>BANKOFAMERICA,NA</td>\n",
       "      <td>BANKOFAMERICA,NA</td>\n",
       "      <td>NaN</td>\n",
       "    </tr>\n",
       "  </tbody>\n",
       "</table>\n",
       "<p>5 rows × 26 columns</p>\n",
       "</div>"
      ],
      "text/plain": [
       "   CREDIT SCORE  FIRST PAYMENT DATE FIRST TIME HOMEBUYER FLAG  MATURITY DATE  \\\n",
       "0           698              200210                         N         203003   \n",
       "1           708              200210                         N         203003   \n",
       "2           813              200302                         N         203004   \n",
       "3           734              200004                         N         203003   \n",
       "4           756              200004                         N         203003   \n",
       "\n",
       "   METROPOLITAN STATISTICAL AREA  MORTGAGE INSURANCE PERCENTAGE  \\\n",
       "0                        15940.0                              0   \n",
       "1                        33340.0                             25   \n",
       "2                        15380.0                              0   \n",
       "3                        36740.0                             17   \n",
       "4                        30020.0                              0   \n",
       "\n",
       "   NUMBER OF UNITS OCCUPANCY STATUS  ORIGINAL COMBINED LOAN-TO-VALU  \\\n",
       "0                1                P                              78   \n",
       "1                1                P                              88   \n",
       "2                1                P                              78   \n",
       "3                1                P                              90   \n",
       "4                1                P                              79   \n",
       "\n",
       "   ORIGINAL DEBT-TO-INCOME (DTI) RATIO          ...           PROPERTY STATE  \\\n",
       "0                                   25          ...                       OH   \n",
       "1                                   38          ...                       WI   \n",
       "2                                   22          ...                       NY   \n",
       "3                                   40          ...                       FL   \n",
       "4                                    9          ...                       OK   \n",
       "\n",
       "   PROPERTY TYPE  POSTAL CODE LOAN SEQUENCE NUMBER LOAN PURPOSE  \\\n",
       "0             SF      44700.0         F100Q1000012            C   \n",
       "1             SF      53000.0         F100Q1000016            P   \n",
       "2             SF      14200.0         F100Q1000024            P   \n",
       "3             SF      32700.0         F100Q1000033            P   \n",
       "4             SF      73500.0         F100Q1000066            P   \n",
       "\n",
       "  ORIGINAL LOAN TERM NUMBER OF BORROWERS       SELLER NAME     SERVICER NAME  \\\n",
       "0                330                   2     Other sellers   Other servicers   \n",
       "1                330                   2     Other sellers   Other servicers   \n",
       "2                327                   2     Other sellers   Other servicers   \n",
       "3                360                   1     Other sellers       CHASEMTGECO   \n",
       "4                360                   2  BANKOFAMERICA,NA  BANKOFAMERICA,NA   \n",
       "\n",
       "  SUPER CONFORMING FLAG  \n",
       "0                   NaN  \n",
       "1                   NaN  \n",
       "2                   NaN  \n",
       "3                   NaN  \n",
       "4                   NaN  \n",
       "\n",
       "[5 rows x 26 columns]"
      ]
     },
     "execution_count": 78,
     "metadata": {},
     "output_type": "execute_result"
    }
   ],
   "source": [
    "df.head()"
   ]
  },
  {
   "cell_type": "code",
   "execution_count": 79,
   "metadata": {},
   "outputs": [
    {
     "data": {
      "text/html": [
       "<div>\n",
       "<style scoped>\n",
       "    .dataframe tbody tr th:only-of-type {\n",
       "        vertical-align: middle;\n",
       "    }\n",
       "\n",
       "    .dataframe tbody tr th {\n",
       "        vertical-align: top;\n",
       "    }\n",
       "\n",
       "    .dataframe thead th {\n",
       "        text-align: right;\n",
       "    }\n",
       "</style>\n",
       "<table border=\"1\" class=\"dataframe\">\n",
       "  <thead>\n",
       "    <tr style=\"text-align: right;\">\n",
       "      <th></th>\n",
       "      <th>CREDIT SCORE</th>\n",
       "      <th>FIRST PAYMENT DATE</th>\n",
       "      <th>MATURITY DATE</th>\n",
       "      <th>METROPOLITAN STATISTICAL AREA</th>\n",
       "      <th>MORTGAGE INSURANCE PERCENTAGE</th>\n",
       "      <th>NUMBER OF UNITS</th>\n",
       "      <th>ORIGINAL COMBINED LOAN-TO-VALU</th>\n",
       "      <th>ORIGINAL DEBT-TO-INCOME (DTI) RATIO</th>\n",
       "      <th>ORIGINAL UPB</th>\n",
       "      <th>ORIGINAL LOAN-TO-VALUE</th>\n",
       "      <th>ORIGINAL INTEREST RATE</th>\n",
       "      <th>POSTAL CODE</th>\n",
       "      <th>ORIGINAL LOAN TERM</th>\n",
       "      <th>NUMBER OF BORROWERS</th>\n",
       "      <th>SUPER CONFORMING FLAG</th>\n",
       "    </tr>\n",
       "  </thead>\n",
       "  <tbody>\n",
       "    <tr>\n",
       "      <th>count</th>\n",
       "      <td>49999.000000</td>\n",
       "      <td>49999.000000</td>\n",
       "      <td>49999.000000</td>\n",
       "      <td>42458.000000</td>\n",
       "      <td>49999.000000</td>\n",
       "      <td>49999.000000</td>\n",
       "      <td>49999.000000</td>\n",
       "      <td>49999.000000</td>\n",
       "      <td>49999.000000</td>\n",
       "      <td>49999.000000</td>\n",
       "      <td>49999.000000</td>\n",
       "      <td>49927.000000</td>\n",
       "      <td>49999.000000</td>\n",
       "      <td>49999.000000</td>\n",
       "      <td>0.0</td>\n",
       "    </tr>\n",
       "    <tr>\n",
       "      <th>mean</th>\n",
       "      <td>827.464309</td>\n",
       "      <td>200025.534691</td>\n",
       "      <td>203015.146043</td>\n",
       "      <td>30082.927646</td>\n",
       "      <td>9.551131</td>\n",
       "      <td>1.031641</td>\n",
       "      <td>78.225185</td>\n",
       "      <td>52.475750</td>\n",
       "      <td>130917.778356</td>\n",
       "      <td>77.734995</td>\n",
       "      <td>8.188809</td>\n",
       "      <td>52504.748933</td>\n",
       "      <td>359.786416</td>\n",
       "      <td>1.644253</td>\n",
       "      <td>NaN</td>\n",
       "    </tr>\n",
       "    <tr>\n",
       "      <th>std</th>\n",
       "      <td>1030.851167</td>\n",
       "      <td>38.624497</td>\n",
       "      <td>27.874119</td>\n",
       "      <td>11338.712374</td>\n",
       "      <td>31.906281</td>\n",
       "      <td>0.489988</td>\n",
       "      <td>17.263804</td>\n",
       "      <td>130.378934</td>\n",
       "      <td>58494.545423</td>\n",
       "      <td>16.552198</td>\n",
       "      <td>0.491801</td>\n",
       "      <td>28817.469350</td>\n",
       "      <td>1.936397</td>\n",
       "      <td>2.007921</td>\n",
       "      <td>NaN</td>\n",
       "    </tr>\n",
       "    <tr>\n",
       "      <th>min</th>\n",
       "      <td>300.000000</td>\n",
       "      <td>200002.000000</td>\n",
       "      <td>202510.000000</td>\n",
       "      <td>10180.000000</td>\n",
       "      <td>0.000000</td>\n",
       "      <td>1.000000</td>\n",
       "      <td>6.000000</td>\n",
       "      <td>1.000000</td>\n",
       "      <td>9000.000000</td>\n",
       "      <td>6.000000</td>\n",
       "      <td>5.125000</td>\n",
       "      <td>600.000000</td>\n",
       "      <td>301.000000</td>\n",
       "      <td>1.000000</td>\n",
       "      <td>NaN</td>\n",
       "    </tr>\n",
       "    <tr>\n",
       "      <th>25%</th>\n",
       "      <td>674.000000</td>\n",
       "      <td>200006.000000</td>\n",
       "      <td>203005.000000</td>\n",
       "      <td>19124.000000</td>\n",
       "      <td>0.000000</td>\n",
       "      <td>1.000000</td>\n",
       "      <td>72.000000</td>\n",
       "      <td>28.000000</td>\n",
       "      <td>85000.000000</td>\n",
       "      <td>72.000000</td>\n",
       "      <td>7.875000</td>\n",
       "      <td>29800.000000</td>\n",
       "      <td>360.000000</td>\n",
       "      <td>1.000000</td>\n",
       "      <td>NaN</td>\n",
       "    </tr>\n",
       "    <tr>\n",
       "      <th>50%</th>\n",
       "      <td>719.000000</td>\n",
       "      <td>200009.000000</td>\n",
       "      <td>203008.000000</td>\n",
       "      <td>31180.000000</td>\n",
       "      <td>0.000000</td>\n",
       "      <td>1.000000</td>\n",
       "      <td>80.000000</td>\n",
       "      <td>35.000000</td>\n",
       "      <td>123000.000000</td>\n",
       "      <td>80.000000</td>\n",
       "      <td>8.250000</td>\n",
       "      <td>49400.000000</td>\n",
       "      <td>360.000000</td>\n",
       "      <td>2.000000</td>\n",
       "      <td>NaN</td>\n",
       "    </tr>\n",
       "    <tr>\n",
       "      <th>75%</th>\n",
       "      <td>758.000000</td>\n",
       "      <td>200012.000000</td>\n",
       "      <td>203011.000000</td>\n",
       "      <td>39580.000000</td>\n",
       "      <td>25.000000</td>\n",
       "      <td>1.000000</td>\n",
       "      <td>90.000000</td>\n",
       "      <td>43.000000</td>\n",
       "      <td>170000.000000</td>\n",
       "      <td>90.000000</td>\n",
       "      <td>8.500000</td>\n",
       "      <td>80000.000000</td>\n",
       "      <td>360.000000</td>\n",
       "      <td>2.000000</td>\n",
       "      <td>NaN</td>\n",
       "    </tr>\n",
       "    <tr>\n",
       "      <th>max</th>\n",
       "      <td>9999.000000</td>\n",
       "      <td>200710.000000</td>\n",
       "      <td>203709.000000</td>\n",
       "      <td>49740.000000</td>\n",
       "      <td>999.000000</td>\n",
       "      <td>99.000000</td>\n",
       "      <td>999.000000</td>\n",
       "      <td>999.000000</td>\n",
       "      <td>486000.000000</td>\n",
       "      <td>999.000000</td>\n",
       "      <td>10.875000</td>\n",
       "      <td>99900.000000</td>\n",
       "      <td>408.000000</td>\n",
       "      <td>99.000000</td>\n",
       "      <td>NaN</td>\n",
       "    </tr>\n",
       "  </tbody>\n",
       "</table>\n",
       "</div>"
      ],
      "text/plain": [
       "       CREDIT SCORE  FIRST PAYMENT DATE  MATURITY DATE  \\\n",
       "count  49999.000000        49999.000000   49999.000000   \n",
       "mean     827.464309       200025.534691  203015.146043   \n",
       "std     1030.851167           38.624497      27.874119   \n",
       "min      300.000000       200002.000000  202510.000000   \n",
       "25%      674.000000       200006.000000  203005.000000   \n",
       "50%      719.000000       200009.000000  203008.000000   \n",
       "75%      758.000000       200012.000000  203011.000000   \n",
       "max     9999.000000       200710.000000  203709.000000   \n",
       "\n",
       "       METROPOLITAN STATISTICAL AREA  MORTGAGE INSURANCE PERCENTAGE  \\\n",
       "count                   42458.000000                   49999.000000   \n",
       "mean                    30082.927646                       9.551131   \n",
       "std                     11338.712374                      31.906281   \n",
       "min                     10180.000000                       0.000000   \n",
       "25%                     19124.000000                       0.000000   \n",
       "50%                     31180.000000                       0.000000   \n",
       "75%                     39580.000000                      25.000000   \n",
       "max                     49740.000000                     999.000000   \n",
       "\n",
       "       NUMBER OF UNITS  ORIGINAL COMBINED LOAN-TO-VALU  \\\n",
       "count     49999.000000                    49999.000000   \n",
       "mean          1.031641                       78.225185   \n",
       "std           0.489988                       17.263804   \n",
       "min           1.000000                        6.000000   \n",
       "25%           1.000000                       72.000000   \n",
       "50%           1.000000                       80.000000   \n",
       "75%           1.000000                       90.000000   \n",
       "max          99.000000                      999.000000   \n",
       "\n",
       "       ORIGINAL DEBT-TO-INCOME (DTI) RATIO   ORIGINAL UPB  \\\n",
       "count                         49999.000000   49999.000000   \n",
       "mean                             52.475750  130917.778356   \n",
       "std                             130.378934   58494.545423   \n",
       "min                               1.000000    9000.000000   \n",
       "25%                              28.000000   85000.000000   \n",
       "50%                              35.000000  123000.000000   \n",
       "75%                              43.000000  170000.000000   \n",
       "max                             999.000000  486000.000000   \n",
       "\n",
       "       ORIGINAL LOAN-TO-VALUE  ORIGINAL INTEREST RATE   POSTAL CODE  \\\n",
       "count            49999.000000            49999.000000  49927.000000   \n",
       "mean                77.734995                8.188809  52504.748933   \n",
       "std                 16.552198                0.491801  28817.469350   \n",
       "min                  6.000000                5.125000    600.000000   \n",
       "25%                 72.000000                7.875000  29800.000000   \n",
       "50%                 80.000000                8.250000  49400.000000   \n",
       "75%                 90.000000                8.500000  80000.000000   \n",
       "max                999.000000               10.875000  99900.000000   \n",
       "\n",
       "       ORIGINAL LOAN TERM  NUMBER OF BORROWERS  SUPER CONFORMING FLAG  \n",
       "count        49999.000000         49999.000000                    0.0  \n",
       "mean           359.786416             1.644253                    NaN  \n",
       "std              1.936397             2.007921                    NaN  \n",
       "min            301.000000             1.000000                    NaN  \n",
       "25%            360.000000             1.000000                    NaN  \n",
       "50%            360.000000             2.000000                    NaN  \n",
       "75%            360.000000             2.000000                    NaN  \n",
       "max            408.000000            99.000000                    NaN  "
      ]
     },
     "execution_count": 79,
     "metadata": {},
     "output_type": "execute_result"
    }
   ],
   "source": [
    "df.describe()"
   ]
  },
  {
   "cell_type": "markdown",
   "metadata": {},
   "source": [
    "Based on the data description above, we found that the super conforming flag had no values at all. So we decided to drop the Super Conforming Flag"
   ]
  },
  {
   "cell_type": "code",
   "execution_count": 80,
   "metadata": {},
   "outputs": [],
   "source": [
    "del df['SUPER CONFORMING FLAG']"
   ]
  },
  {
   "cell_type": "code",
   "execution_count": 81,
   "metadata": {},
   "outputs": [
    {
     "data": {
      "text/plain": [
       "(49999, 25)"
      ]
     },
     "execution_count": 81,
     "metadata": {},
     "output_type": "execute_result"
    }
   ],
   "source": [
    "df.shape"
   ]
  },
  {
   "cell_type": "code",
   "execution_count": 82,
   "metadata": {},
   "outputs": [
    {
     "data": {
      "image/png": "[encoded data removed]",
      "text/plain": [
       "<Figure size 432x288 with 1 Axes>"
      ]
     },
     "metadata": {},
     "output_type": "display_data"
    }
   ],
   "source": [
    "#What are the datatypes present in the dataset\n",
    "plt.title('Type count for features')\n",
    "plt.xlabel('Type')\n",
    "plt.ylabel('Count')\n",
    "df.dtypes.value_counts().sort_values().plot(kind='bar')\n",
    "plt.show()"
   ]
  },
  {
   "cell_type": "markdown",
   "metadata": {},
   "source": [
    "Most of the features in the dataset are either objects or integers with a few float values"
   ]
  },
  {
   "cell_type": "code",
   "execution_count": 83,
   "metadata": {},
   "outputs": [
    {
     "name": "stdout",
     "output_type": "stream",
     "text": [
      "<class 'pandas.core.frame.DataFrame'>\n",
      "RangeIndex: 49999 entries, 0 to 49998\n",
      "Data columns (total 25 columns):\n",
      "CREDIT SCORE                           49999 non-null int64\n",
      "FIRST PAYMENT DATE                     49999 non-null int64\n",
      "FIRST TIME HOMEBUYER FLAG              49999 non-null object\n",
      "MATURITY DATE                          49999 non-null int64\n",
      "METROPOLITAN STATISTICAL AREA          42458 non-null float64\n",
      "MORTGAGE INSURANCE PERCENTAGE          49999 non-null int64\n",
      "NUMBER OF UNITS                        49999 non-null int64\n",
      "OCCUPANCY STATUS                       49999 non-null object\n",
      "ORIGINAL COMBINED LOAN-TO-VALU         49999 non-null int64\n",
      "ORIGINAL DEBT-TO-INCOME (DTI) RATIO    49999 non-null int64\n",
      "ORIGINAL UPB                           49999 non-null int64\n",
      "ORIGINAL LOAN-TO-VALUE                 49999 non-null int64\n",
      "ORIGINAL INTEREST RATE                 49999 non-null float64\n",
      "CHANNE                                 49999 non-null object\n",
      "PREPAYMENT PENALTY MORTGAGE FLAG       49763 non-null object\n",
      "PRODUCT TYPE                           49999 non-null object\n",
      "PROPERTY STATE                         49999 non-null object\n",
      "PROPERTY TYPE                          49999 non-null object\n",
      "POSTAL CODE                            49927 non-null float64\n",
      "LOAN SEQUENCE NUMBER                   49999 non-null object\n",
      "LOAN PURPOSE                           49999 non-null object\n",
      "ORIGINAL LOAN TERM                     49999 non-null int64\n",
      "NUMBER OF BORROWERS                    49999 non-null int64\n",
      "SELLER NAME                            49999 non-null object\n",
      "SERVICER NAME                          49999 non-null object\n",
      "dtypes: float64(3), int64(11), object(11)\n",
      "memory usage: 9.5+ MB\n"
     ]
    }
   ],
   "source": [
    "#Structure of the dataset\n",
    "df.info()"
   ]
  },
  {
   "cell_type": "code",
   "execution_count": null,
   "metadata": {},
   "outputs": [],
   "source": []
  },
  {
   "cell_type": "markdown",
   "metadata": {},
   "source": [
    "Based on the dataset info above, most of the columns have their data, as such we wont be dealing with a lot of missing values"
   ]
  },
  {
   "cell_type": "code",
   "execution_count": 84,
   "metadata": {},
   "outputs": [
    {
     "data": {
      "text/html": [
       "<div>\n",
       "<style scoped>\n",
       "    .dataframe tbody tr th:only-of-type {\n",
       "        vertical-align: middle;\n",
       "    }\n",
       "\n",
       "    .dataframe tbody tr th {\n",
       "        vertical-align: top;\n",
       "    }\n",
       "\n",
       "    .dataframe thead th {\n",
       "        text-align: right;\n",
       "    }\n",
       "</style>\n",
       "<table border=\"1\" class=\"dataframe\">\n",
       "  <thead>\n",
       "    <tr style=\"text-align: right;\">\n",
       "      <th></th>\n",
       "      <th>column_name</th>\n",
       "      <th>missing_count</th>\n",
       "    </tr>\n",
       "  </thead>\n",
       "  <tbody>\n",
       "    <tr>\n",
       "      <th>0</th>\n",
       "      <td>CREDIT SCORE</td>\n",
       "      <td>0</td>\n",
       "    </tr>\n",
       "    <tr>\n",
       "      <th>1</th>\n",
       "      <td>FIRST PAYMENT DATE</td>\n",
       "      <td>0</td>\n",
       "    </tr>\n",
       "    <tr>\n",
       "      <th>2</th>\n",
       "      <td>FIRST TIME HOMEBUYER FLAG</td>\n",
       "      <td>0</td>\n",
       "    </tr>\n",
       "    <tr>\n",
       "      <th>3</th>\n",
       "      <td>MATURITY DATE</td>\n",
       "      <td>0</td>\n",
       "    </tr>\n",
       "    <tr>\n",
       "      <th>4</th>\n",
       "      <td>METROPOLITAN STATISTICAL AREA</td>\n",
       "      <td>7541</td>\n",
       "    </tr>\n",
       "    <tr>\n",
       "      <th>5</th>\n",
       "      <td>MORTGAGE INSURANCE PERCENTAGE</td>\n",
       "      <td>0</td>\n",
       "    </tr>\n",
       "    <tr>\n",
       "      <th>6</th>\n",
       "      <td>NUMBER OF UNITS</td>\n",
       "      <td>0</td>\n",
       "    </tr>\n",
       "    <tr>\n",
       "      <th>7</th>\n",
       "      <td>OCCUPANCY STATUS</td>\n",
       "      <td>0</td>\n",
       "    </tr>\n",
       "    <tr>\n",
       "      <th>8</th>\n",
       "      <td>ORIGINAL COMBINED LOAN-TO-VALU</td>\n",
       "      <td>0</td>\n",
       "    </tr>\n",
       "    <tr>\n",
       "      <th>9</th>\n",
       "      <td>ORIGINAL DEBT-TO-INCOME (DTI) RATIO</td>\n",
       "      <td>0</td>\n",
       "    </tr>\n",
       "    <tr>\n",
       "      <th>10</th>\n",
       "      <td>ORIGINAL UPB</td>\n",
       "      <td>0</td>\n",
       "    </tr>\n",
       "    <tr>\n",
       "      <th>11</th>\n",
       "      <td>ORIGINAL LOAN-TO-VALUE</td>\n",
       "      <td>0</td>\n",
       "    </tr>\n",
       "    <tr>\n",
       "      <th>12</th>\n",
       "      <td>ORIGINAL INTEREST RATE</td>\n",
       "      <td>0</td>\n",
       "    </tr>\n",
       "    <tr>\n",
       "      <th>13</th>\n",
       "      <td>CHANNE</td>\n",
       "      <td>0</td>\n",
       "    </tr>\n",
       "    <tr>\n",
       "      <th>14</th>\n",
       "      <td>PREPAYMENT PENALTY MORTGAGE FLAG</td>\n",
       "      <td>236</td>\n",
       "    </tr>\n",
       "    <tr>\n",
       "      <th>15</th>\n",
       "      <td>PRODUCT TYPE</td>\n",
       "      <td>0</td>\n",
       "    </tr>\n",
       "    <tr>\n",
       "      <th>16</th>\n",
       "      <td>PROPERTY STATE</td>\n",
       "      <td>0</td>\n",
       "    </tr>\n",
       "    <tr>\n",
       "      <th>17</th>\n",
       "      <td>PROPERTY TYPE</td>\n",
       "      <td>0</td>\n",
       "    </tr>\n",
       "    <tr>\n",
       "      <th>18</th>\n",
       "      <td>POSTAL CODE</td>\n",
       "      <td>72</td>\n",
       "    </tr>\n",
       "    <tr>\n",
       "      <th>19</th>\n",
       "      <td>LOAN SEQUENCE NUMBER</td>\n",
       "      <td>0</td>\n",
       "    </tr>\n",
       "    <tr>\n",
       "      <th>20</th>\n",
       "      <td>LOAN PURPOSE</td>\n",
       "      <td>0</td>\n",
       "    </tr>\n",
       "    <tr>\n",
       "      <th>21</th>\n",
       "      <td>ORIGINAL LOAN TERM</td>\n",
       "      <td>0</td>\n",
       "    </tr>\n",
       "    <tr>\n",
       "      <th>22</th>\n",
       "      <td>NUMBER OF BORROWERS</td>\n",
       "      <td>0</td>\n",
       "    </tr>\n",
       "    <tr>\n",
       "      <th>23</th>\n",
       "      <td>SELLER NAME</td>\n",
       "      <td>0</td>\n",
       "    </tr>\n",
       "    <tr>\n",
       "      <th>24</th>\n",
       "      <td>SERVICER NAME</td>\n",
       "      <td>0</td>\n",
       "    </tr>\n",
       "  </tbody>\n",
       "</table>\n",
       "</div>"
      ],
      "text/plain": [
       "                            column_name  missing_count\n",
       "0                          CREDIT SCORE              0\n",
       "1                    FIRST PAYMENT DATE              0\n",
       "2             FIRST TIME HOMEBUYER FLAG              0\n",
       "3                         MATURITY DATE              0\n",
       "4         METROPOLITAN STATISTICAL AREA           7541\n",
       "5         MORTGAGE INSURANCE PERCENTAGE              0\n",
       "6                       NUMBER OF UNITS              0\n",
       "7                      OCCUPANCY STATUS              0\n",
       "8        ORIGINAL COMBINED LOAN-TO-VALU              0\n",
       "9   ORIGINAL DEBT-TO-INCOME (DTI) RATIO              0\n",
       "10                         ORIGINAL UPB              0\n",
       "11               ORIGINAL LOAN-TO-VALUE              0\n",
       "12               ORIGINAL INTEREST RATE              0\n",
       "13                               CHANNE              0\n",
       "14     PREPAYMENT PENALTY MORTGAGE FLAG            236\n",
       "15                         PRODUCT TYPE              0\n",
       "16                       PROPERTY STATE              0\n",
       "17                        PROPERTY TYPE              0\n",
       "18                          POSTAL CODE             72\n",
       "19                 LOAN SEQUENCE NUMBER              0\n",
       "20                         LOAN PURPOSE              0\n",
       "21                   ORIGINAL LOAN TERM              0\n",
       "22                  NUMBER OF BORROWERS              0\n",
       "23                          SELLER NAME              0\n",
       "24                        SERVICER NAME              0"
      ]
     },
     "execution_count": 84,
     "metadata": {},
     "output_type": "execute_result"
    }
   ],
   "source": [
    "#Investigating missing values in the dataset\n",
    "missing_df = df.isnull().sum(axis=0).reset_index()\n",
    "missing_df.columns = ['column_name', 'missing_count']\n",
    "#missing_df = missing_df.sort_values(by='missing_count')\n",
    "missing_df"
   ]
  },
  {
   "cell_type": "markdown",
   "metadata": {},
   "source": [
    "Only the METROPOLITAN STATISTICAL AREA, PREPAYMENT PENALTY MORTGAGE FLAG, POSTAL CODE are the only columns in the dataset that have missing values. We shall investigate and fill these columns"
   ]
  },
  {
   "cell_type": "code",
   "execution_count": 85,
   "metadata": {},
   "outputs": [
    {
     "data": {
      "text/plain": [
       "0    30000.0\n",
       "dtype: float64"
      ]
     },
     "execution_count": 85,
     "metadata": {},
     "output_type": "execute_result"
    }
   ],
   "source": [
    "#This column doesn't seem to have any missing values\n",
    "df['POSTAL CODE'].mode()"
   ]
  },
  {
   "cell_type": "code",
   "execution_count": 86,
   "metadata": {},
   "outputs": [],
   "source": [
    "df['POSTAL CODE'].fillna('30000.0', inplace=True)"
   ]
  },
  {
   "cell_type": "code",
   "execution_count": 87,
   "metadata": {},
   "outputs": [
    {
     "data": {
      "text/plain": [
       "0    16974.0\n",
       "dtype: float64"
      ]
     },
     "execution_count": 87,
     "metadata": {},
     "output_type": "execute_result"
    }
   ],
   "source": [
    "#Metropolitan statistical area, dealing with missing values\n",
    "df['METROPOLITAN STATISTICAL AREA'].mode()"
   ]
  },
  {
   "cell_type": "code",
   "execution_count": 88,
   "metadata": {},
   "outputs": [],
   "source": [
    "df['METROPOLITAN STATISTICAL AREA'].fillna('16974.0', inplace=True)"
   ]
  },
  {
   "cell_type": "code",
   "execution_count": 89,
   "metadata": {},
   "outputs": [
    {
     "data": {
      "text/plain": [
       "0    N\n",
       "dtype: object"
      ]
     },
     "execution_count": 89,
     "metadata": {},
     "output_type": "execute_result"
    }
   ],
   "source": [
    "df['PREPAYMENT PENALTY MORTGAGE FLAG'].mode()"
   ]
  },
  {
   "cell_type": "code",
   "execution_count": 90,
   "metadata": {},
   "outputs": [],
   "source": [
    "df['PREPAYMENT PENALTY MORTGAGE FLAG'].fillna('N', inplace=True)"
   ]
  },
  {
   "cell_type": "markdown",
   "metadata": {},
   "source": [
    "All the missing values have been replaced"
   ]
  },
  {
   "cell_type": "markdown",
   "metadata": {},
   "source": [
    "# Dealing with categorical values in the dataset"
   ]
  },
  {
   "cell_type": "code",
   "execution_count": 91,
   "metadata": {},
   "outputs": [
    {
     "data": {
      "image/png": "[encoded data removed]",
      "text/plain": [
       "<Figure size 2160x2160 with 1 Axes>"
      ]
     },
     "metadata": {},
     "output_type": "display_data"
    }
   ],
   "source": [
    "#What are the datatypes present in the dataset\n",
    "plt.title('Graph showing features by State')\n",
    "plt.xlabel('State')\n",
    "plt.ylabel('Count of Records')\n",
    "df['PROPERTY STATE'].value_counts().sort_values().plot(kind='barh', figsize=(30,30))\n",
    "plt.show()"
   ]
  },
  {
   "cell_type": "code",
   "execution_count": 92,
   "metadata": {},
   "outputs": [
    {
     "data": {
      "text/plain": [
       "count    49999.000000\n",
       "mean       827.464309\n",
       "std       1030.851167\n",
       "min        300.000000\n",
       "25%        674.000000\n",
       "50%        719.000000\n",
       "75%        758.000000\n",
       "max       9999.000000\n",
       "Name: CREDIT SCORE, dtype: float64"
      ]
     },
     "execution_count": 92,
     "metadata": {},
     "output_type": "execute_result"
    }
   ],
   "source": [
    "# What is the average credit score for all borrowers in the dataset\n",
    "df['CREDIT SCORE'].describe()"
   ]
  },
  {
   "cell_type": "markdown",
   "metadata": {},
   "source": [
    "The median credit score in the sample dataset is 827 while the lowest credit score is 300"
   ]
  },
  {
   "cell_type": "code",
   "execution_count": 93,
   "metadata": {},
   "outputs": [],
   "source": [
    "df['CREDIT SCORE'].replace(to_replace=9999, value=np.nan, inplace=True)\n",
    "df['CREDIT SCORE'].fillna((df['CREDIT SCORE'].mean()), inplace=True)"
   ]
  },
  {
   "cell_type": "code",
   "execution_count": 94,
   "metadata": {},
   "outputs": [],
   "source": [
    "categorical_columns = df.select_dtypes(include=['object']).columns"
   ]
  },
  {
   "cell_type": "code",
   "execution_count": 95,
   "metadata": {},
   "outputs": [
    {
     "data": {
      "image/png": "[encoded data removed]",
      "text/plain": [
       "<Figure size 432x288 with 1 Axes>"
      ]
     },
     "metadata": {},
     "output_type": "display_data"
    }
   ],
   "source": [
    "# Barplot\n",
    "sns.barplot(y = categorical_columns, x = df[categorical_columns].apply(pd.Series.nunique, axis = 0).tolist(), palette=sns.color_palette(\"rainbow\"))\n",
    "plt.title('Number of categories in each categorical feature')\n",
    "plt.show()"
   ]
  },
  {
   "cell_type": "code",
   "execution_count": 96,
   "metadata": {},
   "outputs": [
    {
     "data": {
      "text/plain": [
       "WELLSFARGOHOMEMORTGA    10227\n",
       "Other sellers            9749\n",
       "ABNAMROMTGEGROUP,INC     5536\n",
       "BANKOFAMERICA,NA         4931\n",
       "NATLCITYMTGECO           3571\n",
       "NORWESTMORTGAGE,INC      3232\n",
       "CHASEMANHATTANMTGECO     1624\n",
       "PRINCIPALRESIDENTIAL     1516\n",
       "PNCMTGECORPOFAMERICA     1467\n",
       "OLDKENTMTGECO            1340\n",
       "COUNTRYWIDE              1315\n",
       "FIRSTARBANK,NA           1204\n",
       "BRANCHBANKING&TRUSTC      890\n",
       "BISHOPSGATERESIDENTI      863\n",
       "FLAGSTARBANK,FSB          835\n",
       "CROSSLANDMTGECORP         731\n",
       "FIRSTHORIZONHOMELOAN      645\n",
       "FIFTHTHIRDBANK            323\n",
       "Name: SELLER NAME, dtype: int64"
      ]
     },
     "execution_count": 96,
     "metadata": {},
     "output_type": "execute_result"
    }
   ],
   "source": [
    "df['SELLER NAME'].value_counts()"
   ]
  },
  {
   "cell_type": "markdown",
   "metadata": {},
   "source": [
    "Wells Fargo Bank is the biggest lender while FIFTHTHIRDBANK is the least common lender"
   ]
  },
  {
   "cell_type": "code",
   "execution_count": 97,
   "metadata": {},
   "outputs": [
    {
     "data": {
      "text/plain": [
       "SF    39052\n",
       "PU     6531\n",
       "CO     4090\n",
       "MH      244\n",
       "CP       74\n",
       "99        8\n",
       "Name: PROPERTY TYPE, dtype: int64"
      ]
     },
     "execution_count": 97,
     "metadata": {},
     "output_type": "execute_result"
    }
   ],
   "source": [
    "df['PROPERTY TYPE'].value_counts()"
   ]
  },
  {
   "cell_type": "code",
   "execution_count": 98,
   "metadata": {},
   "outputs": [
    {
     "data": {
      "text/plain": [
       "N    33847\n",
       "Y     8976\n",
       "9     7176\n",
       "Name: FIRST TIME HOMEBUYER FLAG, dtype: int64"
      ]
     },
     "execution_count": 98,
     "metadata": {},
     "output_type": "execute_result"
    }
   ],
   "source": [
    "df['FIRST TIME HOMEBUYER FLAG'].value_counts()"
   ]
  },
  {
   "cell_type": "markdown",
   "metadata": {},
   "source": [
    "Only 8976 people in the dataset are first time home buyers, thus generally most of the buyers in the sample dataset aren't first time home buyers"
   ]
  },
  {
   "cell_type": "code",
   "execution_count": 99,
   "metadata": {},
   "outputs": [],
   "source": [
    "#df['MATURITY DATE'].hist()\n",
    "df['Maturity_year'] =  [int(str(d)[:4]) for d in df['MATURITY DATE']]"
   ]
  },
  {
   "cell_type": "code",
   "execution_count": 100,
   "metadata": {},
   "outputs": [
    {
     "data": {
      "text/plain": [
       "2030    45657\n",
       "2031     4281\n",
       "2029       26\n",
       "2032       16\n",
       "2028        5\n",
       "2027        5\n",
       "2035        3\n",
       "2026        2\n",
       "2037        1\n",
       "2034        1\n",
       "2033        1\n",
       "2025        1\n",
       "Name: Maturity_year, dtype: int64"
      ]
     },
     "execution_count": 100,
     "metadata": {},
     "output_type": "execute_result"
    }
   ],
   "source": [
    "df['Maturity_year'].value_counts()"
   ]
  },
  {
   "cell_type": "markdown",
   "metadata": {},
   "source": [
    "Most of the loans in the dataset will mature by the year 2030"
   ]
  },
  {
   "cell_type": "code",
   "execution_count": 101,
   "metadata": {},
   "outputs": [
    {
     "data": {
      "text/plain": [
       "1     48873\n",
       "2       890\n",
       "4       124\n",
       "3       111\n",
       "99        1\n",
       "Name: NUMBER OF UNITS, dtype: int64"
      ]
     },
     "execution_count": 101,
     "metadata": {},
     "output_type": "execute_result"
    }
   ],
   "source": [
    "df['NUMBER OF UNITS'].value_counts()"
   ]
  },
  {
   "cell_type": "markdown",
   "metadata": {},
   "source": [
    "90% of the properties in the dataset are one unit properties"
   ]
  },
  {
   "cell_type": "code",
   "execution_count": 102,
   "metadata": {},
   "outputs": [
    {
     "data": {
      "text/plain": [
       "P    45450\n",
       "I     2484\n",
       "S     2065\n",
       "Name: OCCUPANCY STATUS, dtype: int64"
      ]
     },
     "execution_count": 102,
     "metadata": {},
     "output_type": "execute_result"
    }
   ],
   "source": [
    "df['OCCUPANCY STATUS'].value_counts()"
   ]
  },
  {
   "cell_type": "markdown",
   "metadata": {},
   "source": [
    "Over 90% of the properties in the dataset are one unit properties"
   ]
  },
  {
   "cell_type": "code",
   "execution_count": 103,
   "metadata": {},
   "outputs": [
    {
     "data": {
      "text/plain": [
       "130917.7783555671"
      ]
     },
     "execution_count": 103,
     "metadata": {},
     "output_type": "execute_result"
    }
   ],
   "source": [
    "df['ORIGINAL UPB'].mean()"
   ]
  },
  {
   "cell_type": "markdown",
   "metadata": {},
   "source": [
    "The original unpaid balance of loans in the dataset is at least $130,000"
   ]
  },
  {
   "cell_type": "code",
   "execution_count": 104,
   "metadata": {},
   "outputs": [
    {
     "data": {
      "text/plain": [
       "count    49999.000000\n",
       "mean         8.188809\n",
       "std          0.491801\n",
       "min          5.125000\n",
       "25%          7.875000\n",
       "50%          8.250000\n",
       "75%          8.500000\n",
       "max         10.875000\n",
       "Name: ORIGINAL INTEREST RATE, dtype: float64"
      ]
     },
     "execution_count": 104,
     "metadata": {},
     "output_type": "execute_result"
    }
   ],
   "source": [
    "df['ORIGINAL INTEREST RATE'].describe()"
   ]
  },
  {
   "cell_type": "code",
   "execution_count": 105,
   "metadata": {},
   "outputs": [
    {
     "data": {
      "text/plain": [
       "<matplotlib.axes._subplots.AxesSubplot at 0x1a685afd828>"
      ]
     },
     "execution_count": 105,
     "metadata": {},
     "output_type": "execute_result"
    },
    {
     "data": {
      "image/png": "[encoded data removed]",
      "text/plain": [
       "<Figure size 720x720 with 1 Axes>"
      ]
     },
     "metadata": {},
     "output_type": "display_data"
    }
   ],
   "source": [
    "df['ORIGINAL INTEREST RATE'].hist(figsize=(10,10))"
   ]
  },
  {
   "cell_type": "markdown",
   "metadata": {},
   "source": [
    "The minimum interest rate was 5.125% while the max interest rate was 10.875%. The median interest rate was 8.18%"
   ]
  },
  {
   "cell_type": "code",
   "execution_count": 106,
   "metadata": {},
   "outputs": [
    {
     "data": {
      "text/plain": [
       "FRM    49999\n",
       "Name: PRODUCT TYPE, dtype: int64"
      ]
     },
     "execution_count": 106,
     "metadata": {},
     "output_type": "execute_result"
    }
   ],
   "source": [
    "df['PRODUCT TYPE'].value_counts()"
   ]
  },
  {
   "cell_type": "markdown",
   "metadata": {},
   "source": [
    "All the properties in the dataset were fixed rate mortgages"
   ]
  },
  {
   "cell_type": "code",
   "execution_count": 107,
   "metadata": {},
   "outputs": [],
   "source": [
    "Years_to_pay_off = (df['ORIGINAL LOAN TERM'].mode())/12"
   ]
  },
  {
   "cell_type": "code",
   "execution_count": 108,
   "metadata": {},
   "outputs": [
    {
     "data": {
      "text/plain": [
       "0    30.0\n",
       "dtype: float64"
      ]
     },
     "execution_count": 108,
     "metadata": {},
     "output_type": "execute_result"
    }
   ],
   "source": [
    "Years_to_pay_off"
   ]
  },
  {
   "cell_type": "code",
   "execution_count": 109,
   "metadata": {},
   "outputs": [
    {
     "data": {
      "text/plain": [
       "count    49999.000000\n",
       "mean       359.786416\n",
       "std          1.936397\n",
       "min        301.000000\n",
       "25%        360.000000\n",
       "50%        360.000000\n",
       "75%        360.000000\n",
       "max        408.000000\n",
       "Name: ORIGINAL LOAN TERM, dtype: float64"
      ]
     },
     "execution_count": 109,
     "metadata": {},
     "output_type": "execute_result"
    },
    {
     "data": {
      "image/png": "[encoded data removed]",
      "text/plain": [
       "<Figure size 720x720 with 1 Axes>"
      ]
     },
     "metadata": {},
     "output_type": "display_data"
    }
   ],
   "source": [
    "df['ORIGINAL LOAN TERM'].plot(figsize=(10,10))\n",
    "df['ORIGINAL LOAN TERM'].describe()"
   ]
  },
  {
   "cell_type": "markdown",
   "metadata": {},
   "source": [
    "Over 95% of the loans in the dataset have 30 year terms to pay off, the shortest loan term is about 25 years"
   ]
  },
  {
   "cell_type": "code",
   "execution_count": 110,
   "metadata": {},
   "outputs": [
    {
     "data": {
      "text/plain": [
       "<matplotlib.collections.PathCollection at 0x1a686976f98>"
      ]
     },
     "execution_count": 110,
     "metadata": {},
     "output_type": "execute_result"
    },
    {
     "data": {
      "image/png": "[encoded data removed]",
      "text/plain": [
       "<Figure size 640x640 with 1 Axes>"
      ]
     },
     "metadata": {},
     "output_type": "display_data"
    }
   ],
   "source": [
    "plt.figure(figsize=(8, 8), dpi=80)\n",
    "plt.scatter( df['ORIGINAL LOAN TERM'], df['ORIGINAL INTEREST RATE'])\n"
   ]
  },
  {
   "cell_type": "code",
   "execution_count": 111,
   "metadata": {},
   "outputs": [
    {
     "data": {
      "text/plain": [
       "<matplotlib.collections.PathCollection at 0x1a686bfb4a8>"
      ]
     },
     "execution_count": 111,
     "metadata": {},
     "output_type": "execute_result"
    },
    {
     "data": {
      "image/png": "[encoded data removed]",
      "text/plain": [
       "<Figure size 640x640 with 1 Axes>"
      ]
     },
     "metadata": {},
     "output_type": "display_data"
    }
   ],
   "source": [
    "plt.figure(figsize=(8, 8), dpi=80)\n",
    "plt.scatter( df['ORIGINAL INTEREST RATE'],df['CREDIT SCORE'])"
   ]
  },
  {
   "cell_type": "markdown",
   "metadata": {},
   "source": [
    "The credit scores did not have a bearing on the interest rate that an applicant would get"
   ]
  },
  {
   "cell_type": "code",
   "execution_count": 112,
   "metadata": {},
   "outputs": [
    {
     "name": "stderr",
     "output_type": "stream",
     "text": [
      "C:\\ProgramData\\Anaconda4\\lib\\site-packages\\matplotlib\\axes\\_axes.py:6462: UserWarning: The 'normed' kwarg is deprecated, and has been replaced by the 'density' kwarg.\n",
      "  warnings.warn(\"The 'normed' kwarg is deprecated, and has been \"\n"
     ]
    },
    {
     "data": {
      "image/png": "[encoded data removed]",
      "text/plain": [
       "<Figure size 432x288 with 1 Axes>"
      ]
     },
     "metadata": {},
     "output_type": "display_data"
    },
    {
     "name": "stdout",
     "output_type": "stream",
     "text": [
      "count    49999.000000\n",
      "mean       711.930858\n",
      "std         54.897801\n",
      "min        300.000000\n",
      "25%        674.000000\n",
      "50%        717.000000\n",
      "75%        756.000000\n",
      "max        827.000000\n",
      "Name: CREDIT SCORE, dtype: float64\n"
     ]
    }
   ],
   "source": [
    "#Credit score distribution\n",
    "# Histogram and density chart\n",
    "#plt.figure(figsize=(5, 5), dpi=80)\n",
    "sns.distplot(df['CREDIT SCORE'], hist=True, kde=True, \n",
    "             bins=50, color = 'blue', \n",
    "             hist_kws={'edgecolor':'black'},\n",
    "             kde_kws={'linewidth': 4})\n",
    "plt.xticks(rotation=90)\n",
    "plt.title('Distribution of Credit Scores ')\n",
    "plt.xlabel('Credit Score')\n",
    "plt.ylabel('Count of loans')\n",
    "plt.show()\n",
    "\n",
    "print(df['CREDIT SCORE'].describe())"
   ]
  },
  {
   "cell_type": "markdown",
   "metadata": {},
   "source": [
    "People with a credit score of at least 500 had the highest chances of getting approved to buy homes"
   ]
  },
  {
   "cell_type": "code",
   "execution_count": 113,
   "metadata": {},
   "outputs": [
    {
     "name": "stderr",
     "output_type": "stream",
     "text": [
      "C:\\ProgramData\\Anaconda4\\lib\\site-packages\\matplotlib\\axes\\_axes.py:6462: UserWarning: The 'normed' kwarg is deprecated, and has been replaced by the 'density' kwarg.\n",
      "  warnings.warn(\"The 'normed' kwarg is deprecated, and has been \"\n"
     ]
    },
    {
     "data": {
      "image/png": "[encoded data removed]",
      "text/plain": [
       "<Figure size 432x288 with 1 Axes>"
      ]
     },
     "metadata": {},
     "output_type": "display_data"
    },
    {
     "name": "stdout",
     "output_type": "stream",
     "text": [
      "count    49999.000000\n",
      "mean         8.188809\n",
      "std          0.491801\n",
      "min          5.125000\n",
      "25%          7.875000\n",
      "50%          8.250000\n",
      "75%          8.500000\n",
      "max         10.875000\n",
      "Name: ORIGINAL INTEREST RATE, dtype: float64\n"
     ]
    }
   ],
   "source": [
    "# Histogram and density chart\n",
    "sns.distplot(df['ORIGINAL INTEREST RATE'], hist=True, kde=True, \n",
    "             bins=50, color = 'red', \n",
    "             hist_kws={'edgecolor':'black'},\n",
    "             kde_kws={'linewidth': 4})\n",
    "plt.xticks(rotation=90)\n",
    "plt.title('Interest Rate Distribution')\n",
    "plt.xlabel('Interest Rate')\n",
    "#plt.ylabel('Number of people')\n",
    "plt.show()\n",
    "\n",
    "print(df['ORIGINAL INTEREST RATE'].describe())"
   ]
  },
  {
   "cell_type": "code",
   "execution_count": 120,
   "metadata": {},
   "outputs": [],
   "source": [
    "categorical_columns = df.select_dtypes(include=['object']).columns\n",
    "for col in categorical_columns:\n",
    "    df[col] = df[col].astype('category')"
   ]
  },
  {
   "cell_type": "code",
   "execution_count": 124,
   "metadata": {},
   "outputs": [
    {
     "data": {
      "image/png": "[encoded data removed]",
      "text/plain": [
       "<Figure size 432x288 with 1 Axes>"
      ]
     },
     "metadata": {},
     "output_type": "display_data"
    }
   ],
   "source": [
    "p_categories = df['FIRST TIME HOMEBUYER FLAG'].cat.categories.tolist()\n",
    "# Circle chart\n",
    "fig1, ax1 = plt.subplots()\n",
    "ax1.pie(df['FIRST TIME HOMEBUYER FLAG'].value_counts().sort_index().tolist(),\n",
    "        labels=p_categories,\n",
    "        autopct='%1.1f%%',\n",
    "        colors= sns.color_palette(\"copper\"))\n",
    "\n",
    "ax1.axis('equal')\n",
    "\n",
    "centre_circle = plt.Circle((0,0),0.70,fc='white')\n",
    "fig = plt.gcf()\n",
    "fig.gca().add_artist(centre_circle)\n",
    "  \n",
    "plt.tight_layout()\n",
    "plt.show()"
   ]
  },
  {
   "cell_type": "code",
   "execution_count": null,
   "metadata": {},
   "outputs": [],
   "source": []
  },
  {
   "cell_type": "code",
   "execution_count": null,
   "metadata": {},
   "outputs": [],
   "source": []
  }
 ],
 "metadata": {
  "kernelspec": {
   "display_name": "Python 3",
   "language": "python",
   "name": "python3"
  },
  "language_info": {
   "codemirror_mode": {
    "name": "ipython",
    "version": 3
   },
   "file_extension": ".py",
   "mimetype": "text/x-python",
   "name": "python",
   "nbconvert_exporter": "python",
   "pygments_lexer": "ipython3",
   "version": "3.6.5"
  }
 },
 "nbformat": 4,
 "nbformat_minor": 2
}
