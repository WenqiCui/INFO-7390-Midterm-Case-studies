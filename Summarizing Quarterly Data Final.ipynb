{
 "cells": [
  {
   "cell_type": "markdown",
   "metadata": {},
   "source": [
    "# Summarizing Quarterly Data"
   ]
  },
  {
   "cell_type": "markdown",
   "metadata": {},
   "source": [
    "Importing Libraries"
   ]
  },
  {
   "cell_type": "code",
   "execution_count": null,
   "metadata": {},
   "outputs": [],
   "source": [
    "import pandas as pd\n",
    "import matplotlib.pyplot as plt\n",
    "import numpy as np\n",
    "import urllib\n",
    "import urllib.request\n",
    "# for vizualizations\n",
    "%matplotlib inline \n",
    "import matplotlib.pyplot as plt\n",
    "from matplotlib import cm as cm\n",
    "from mpl_toolkits.mplot3d import Axes3D\n",
    "import seaborn as sns\n",
    "sns.set()\n",
    "import requests, pickle\n",
    "import urllib.request\n",
    "from bs4 import BeautifulSoup #for web scraping\n",
    "import csv #for writing csv\n",
    "import logging #for logging\n",
    "import os\n",
    "import zipfile\n",
    "import boto.s3\n",
    "import sys\n",
    "from boto.s3.key import Key\n",
    "import time\n",
    "import datetime\n",
    "\n",
    "session = requests.session()"
   ]
  },
  {
   "cell_type": "markdown",
   "metadata": {},
   "source": [
    "Programmatically downloading the data"
   ]
  },
  {
   "cell_type": "code",
   "execution_count": null,
   "metadata": {},
   "outputs": [],
   "source": [
    "#Downloading Quarterly Data\n",
    "url = 'https://freddiemac.embs.com/FLoan/Data/download.php'\n",
    "\n",
    "cookies = {'PHPSESSID':'ep857b7kh3616r5k9dldjjq040'}\n",
    "r = requests.post(url,cookies=cookies)\n",
    "content=r.content\n",
    "soup = BeautifulSoup(content,'lxml')\n",
    "all_href = soup.find_all('a')\n",
    "url_list=['https://freddiemac.embs.com/FLoan/Data/']*13\n",
    "i=0;\n",
    "for href in all_href:\n",
    "    if ('?f=historical_data1_Q' in href['href'])and(href['href'][37]>'6' and href['href'][36]<'1'):\n",
    "        url_list[i]=url_list[i]+href['href']\n",
    "        i+=1\n",
    "\n",
    "if (not os.path.exists('as34')):\n",
    "    os.mkdir('as34')\n",
    "os.chdir('as34')\n",
    "for i in range(13):\n",
    "    r = requests.get(url_list[i],cookies=cookies)\n",
    "    with open(url_list[i][54:77]+'.zip','wb') as code:\n",
    "        code.write(r.content)\n",
    "\n",
    "os.chdir('..')"
   ]
  },
  {
   "cell_type": "markdown",
   "metadata": {},
   "source": [
    "Unzipping the files"
   ]
  },
  {
   "cell_type": "code",
   "execution_count": null,
   "metadata": {},
   "outputs": [],
   "source": [
    "os.chdir(r'C:\\Users\\byron\\Desktop\\Data-Science-Class\\hh\\as33\\as33\\as34')\n",
    "import glob\n",
    "import shutil\n",
    "mylist = [f for f in glob.glob(\"*.zip\")]\n",
    "import os, zipfile\n",
    "\n",
    "dir_name = r'C:\\Users\\byron\\Desktop\\Data-Science-Class\\hh\\as33\\as33\\as34'\n",
    "extension = \".zip\"\n",
    "\n",
    "for item in os.listdir(dir_name): # loop through items in dir\n",
    "    if item.endswith(extension): # check for \".zip\" extension\n",
    "        file_name = os.path.abspath(item) # get full path of files\n",
    "        for i in mylist:\n",
    "            zip_ref = zipfile.ZipFile(i) # create zipfile object\n",
    "            zip_ref.extractall(dir_name) # extract file to dir\n",
    "            zip_ref.close() # close file\n",
    "            os.remove(i) # delete zipped file"
   ]
  },
  {
   "cell_type": "markdown",
   "metadata": {},
   "source": [
    "Merging the data into one file"
   ]
  },
  {
   "cell_type": "code",
   "execution_count": null,
   "metadata": {},
   "outputs": [],
   "source": [
    "# merging quarterly data\n",
    "mylist2 = [f for f in glob.glob(\"*.txt\")]\n",
    "meragefiledir = r'C:\\Users\\byron\\Desktop\\Data-Science-Class\\hh\\as33\\as33\\as34'\n",
    "filenames=os.listdir(meragefiledir)\n",
    "for i in mylist2:\n",
    "    file=open(i,'w')\n",
    "    for filename in filenames:\n",
    "        filepath=meragefiledir+'\\\\'+filename\n",
    "        for line in open(filepath):\n",
    "            file.writelines(line)\n",
    "        file.write('\\n')\n",
    "    file.close()"
   ]
  },
  {
   "cell_type": "markdown",
   "metadata": {},
   "source": [
    "Reading in the merged file for preprocessing"
   ]
  },
  {
   "cell_type": "code",
   "execution_count": null,
   "metadata": {},
   "outputs": [],
   "source": [
    "df = pd.read_csv(filename, sep='|')"
   ]
  },
  {
   "cell_type": "markdown",
   "metadata": {},
   "source": [
    "Naming the columns in the dataset"
   ]
  },
  {
   "cell_type": "code",
   "execution_count": null,
   "metadata": {},
   "outputs": [],
   "source": [
    "df.columns = [\"LOAN SEQUENCE NUMBER\",\"MONTHLY REPORTING PERIOD\",\"CURRENT ACTUAL UPB\",\"CURRENT LOAN DELINQUENCY STATUS\",\"LOAN AGE\",\n",
    "               \"REMAINING MONTHS TO LEGAL MATURITY\",\"REPURCHASE FLAG\",\"MODIFICATION FLAG\",\"ZERO BALANCE CODE\",\"ZERO BALANCE EFFECTIVE DATE\",\n",
    "               \"CURRENT INTEREST RATE\",\"CURRENT DEFERRED UPB\",\"DUE DATE OF LAST PAID INSTALLMENT (DDLPI)\",\"MI RECOVERIES\",\"NET SALES PROCEEDS\",\n",
    "               \"NON MI RECOVERIES\",\"EXPENSES\",\"LEGAL COSTS\",\"MAINTENANCE AND PRESERVATION COSTS\",\"TAXES AND INSURANCE\",\"MISCELLANEOUS EXPENSES\",\n",
    "               \"ACTUAL LOSS CALCULATION\",\"MODIFICATION COST\",\"STEP MODIFICATION FLAG\",\"DEFERRED PAYMENT MODIFICATION\",\"ESTIMATED LOAN TO VALUE (ELTV)\"]"
   ]
  },
  {
   "cell_type": "markdown",
   "metadata": {},
   "source": [
    "Dealing with missing values and dropping useless columns"
   ]
  },
  {
   "cell_type": "code",
   "execution_count": null,
   "metadata": {},
   "outputs": [],
   "source": [
    "def drop_missing_values(df):\n",
    "    df.drop('REPURCHASE FLAG',axis=1,inplace=True)\n",
    "    df.drop('LOAN SEQUENCE NUMBER',axis=1,inplace=True)\n",
    "    df.drop('MONTHLY REPORTING PERIOD',axis=1,inplace=True)\n",
    "    df.drop('MODIFICATION FLAG',axis=1,inplace=True)\n",
    "    df.drop('ZERO BALANCE CODE',axis=1,inplace=True)\n",
    "    df.drop('ZERO BALANCE EFFECTIVE DATE',axis=1,inplace=True)\n",
    "    df.drop('DUE DATE OF LAST PAID INSTALLMENT (DDLPI)',axis=1,inplace=True)\n",
    "    df.drop('MI RECOVERIES',axis=1,inplace=True)\n",
    "    df.drop('NET SALES PROCEEDS',axis=1,inplace=True)\n",
    "    df.drop('NON MI RECOVERIES',axis=1,inplace=True)\n",
    "    df.drop('EXPENSES',axis=1,inplace=True)\n",
    "    df.drop('LEGAL COSTS',axis=1,inplace=True)\n",
    "    df.drop('MAINTENANCE AND PRESERVATION COSTS',axis=1,inplace=True)\n",
    "    df.drop('TAXES AND INSURANCE',axis=1,inplace=True)\n",
    "    df.drop('MISCELLANEOUS EXPENSES',axis=1,inplace=True)\n",
    "    df.drop('ACTUAL LOSS CALCULATION',axis=1,inplace=True)\n",
    "    df.drop('MODIFICATION COST',axis=1,inplace=True)\n",
    "    df.drop('STEP MODIFICATION FLAG',axis=1,inplace=True)\n",
    "    df.drop('ESTIMATED LOAN TO VALUE (ELTV)',axis=1,inplace=True)\n",
    "    df['DELINQUENT']=['N' if x == '0' else 'Y' for x in df['CURRENT LOAN DELINQUENCY STATUS']]\n",
    "    df.drop('DEFERRED PAYMENT MODIFICATION',axis=1,inplace=True)\n",
    "    df.drop('CURRENT LOAN DELINQUENCY STATUS',axis=1,inplace=True)\n",
    "    df.drop('CURRENT DEFERRED UPB', axis=1, inplace=True)\n",
    "    df.drop('DELINQUENT', axis=1, inplace=True)\n",
    "    #df['REPORTING YEAR'] =  [int(str(d)[:4]) for d in df['MONTHLY REPORTING PERIOD']]\n",
    "    return df"
   ]
  },
  {
   "cell_type": "markdown",
   "metadata": {},
   "source": [
    "Accessing the preprocessed file"
   ]
  },
  {
   "cell_type": "code",
   "execution_count": null,
   "metadata": {},
   "outputs": [],
   "source": [
    "val = drop_missing_values(df)"
   ]
  },
  {
   "cell_type": "markdown",
   "metadata": {},
   "source": [
    "Printing summarizing and saving the summary file in a text file"
   ]
  },
  {
   "cell_type": "code",
   "execution_count": null,
   "metadata": {},
   "outputs": [],
   "source": [
    "with open(\"Summarized_Quarterly_data_file.txt\", \"w\") as text_file:\n",
    "    print(val.describe(), file=text_file)"
   ]
  }
 ],
 "metadata": {
  "kernelspec": {
   "display_name": "Python 3",
   "language": "python",
   "name": "python3"
  },
  "language_info": {
   "codemirror_mode": {
    "name": "ipython",
    "version": 3
   },
   "file_extension": ".py",
   "mimetype": "text/x-python",
   "name": "python",
   "nbconvert_exporter": "python",
   "pygments_lexer": "ipython3",
   "version": "3.6.5"
  }
 },
 "nbformat": 4,
 "nbformat_minor": 2
}
