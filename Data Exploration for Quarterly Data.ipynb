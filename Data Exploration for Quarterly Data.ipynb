{
 "cells": [
  {
   "cell_type": "markdown",
   "metadata": {},
   "source": [
    "# Preprocessing Quarterly Data"
   ]
  },
  {
   "cell_type": "code",
   "execution_count": 105,
   "metadata": {},
   "outputs": [],
   "source": [
    "import pandas as pd\n",
    "import matplotlib.pyplot as plt\n",
    "import numpy as np\n",
    "import urllib\n",
    "import urllib.request\n",
    "# for vizualizations\n",
    "%matplotlib inline \n",
    "import matplotlib.pyplot as plt\n",
    "from matplotlib import cm as cm\n",
    "from mpl_toolkits.mplot3d import Axes3D\n",
    "import seaborn as sns\n",
    "sns.set()\n",
    "#from google.colab import files\n",
    "#import io\n"
   ]
  },
  {
   "cell_type": "markdown",
   "metadata": {},
   "source": [
    "Reading in the dataset for preprocessing"
   ]
  },
  {
   "cell_type": "code",
   "execution_count": 106,
   "metadata": {},
   "outputs": [
    {
     "name": "stderr",
     "output_type": "stream",
     "text": [
      "C:\\ProgramData\\Anaconda4\\lib\\site-packages\\IPython\\core\\interactiveshell.py:2785: DtypeWarning: Columns (14) have mixed types. Specify dtype option on import or set low_memory=False.\n",
      "  interactivity=interactivity, compiler=compiler, result=result)\n"
     ]
    }
   ],
   "source": [
    "df = pd.read_csv('sample_svcg_2006.txt', sep='|')"
   ]
  },
  {
   "cell_type": "markdown",
   "metadata": {},
   "source": [
    "Taking a peek at the top 5 rows of the dataset"
   ]
  },
  {
   "cell_type": "code",
   "execution_count": 107,
   "metadata": {},
   "outputs": [
    {
     "data": {
      "text/html": [
       "<div>\n",
       "<style scoped>\n",
       "    .dataframe tbody tr th:only-of-type {\n",
       "        vertical-align: middle;\n",
       "    }\n",
       "\n",
       "    .dataframe tbody tr th {\n",
       "        vertical-align: top;\n",
       "    }\n",
       "\n",
       "    .dataframe thead th {\n",
       "        text-align: right;\n",
       "    }\n",
       "</style>\n",
       "<table border=\"1\" class=\"dataframe\">\n",
       "  <thead>\n",
       "    <tr style=\"text-align: right;\">\n",
       "      <th></th>\n",
       "      <th>F106Q1000086</th>\n",
       "      <th>200602</th>\n",
       "      <th>128000</th>\n",
       "      <th>0</th>\n",
       "      <th>0.1</th>\n",
       "      <th>360</th>\n",
       "      <th>Unnamed: 6</th>\n",
       "      <th>Unnamed: 7</th>\n",
       "      <th>Unnamed: 8</th>\n",
       "      <th>Unnamed: 9</th>\n",
       "      <th>...</th>\n",
       "      <th>Unnamed: 16</th>\n",
       "      <th>Unnamed: 17</th>\n",
       "      <th>Unnamed: 18</th>\n",
       "      <th>Unnamed: 19</th>\n",
       "      <th>Unnamed: 20</th>\n",
       "      <th>Unnamed: 21</th>\n",
       "      <th>Unnamed: 22</th>\n",
       "      <th>Unnamed: 23</th>\n",
       "      <th></th>\n",
       "      <th>Unnamed: 25</th>\n",
       "    </tr>\n",
       "  </thead>\n",
       "  <tbody>\n",
       "    <tr>\n",
       "      <th>0</th>\n",
       "      <td>F106Q1000086</td>\n",
       "      <td>200603</td>\n",
       "      <td>128000.0</td>\n",
       "      <td>0</td>\n",
       "      <td>1</td>\n",
       "      <td>359</td>\n",
       "      <td>NaN</td>\n",
       "      <td>NaN</td>\n",
       "      <td>NaN</td>\n",
       "      <td>NaN</td>\n",
       "      <td>...</td>\n",
       "      <td>NaN</td>\n",
       "      <td>NaN</td>\n",
       "      <td>NaN</td>\n",
       "      <td>NaN</td>\n",
       "      <td>NaN</td>\n",
       "      <td>NaN</td>\n",
       "      <td>NaN</td>\n",
       "      <td>NaN</td>\n",
       "      <td></td>\n",
       "      <td>NaN</td>\n",
       "    </tr>\n",
       "    <tr>\n",
       "      <th>1</th>\n",
       "      <td>F106Q1000086</td>\n",
       "      <td>200604</td>\n",
       "      <td>128000.0</td>\n",
       "      <td>0</td>\n",
       "      <td>2</td>\n",
       "      <td>358</td>\n",
       "      <td>NaN</td>\n",
       "      <td>NaN</td>\n",
       "      <td>NaN</td>\n",
       "      <td>NaN</td>\n",
       "      <td>...</td>\n",
       "      <td>NaN</td>\n",
       "      <td>NaN</td>\n",
       "      <td>NaN</td>\n",
       "      <td>NaN</td>\n",
       "      <td>NaN</td>\n",
       "      <td>NaN</td>\n",
       "      <td>NaN</td>\n",
       "      <td>NaN</td>\n",
       "      <td></td>\n",
       "      <td>NaN</td>\n",
       "    </tr>\n",
       "    <tr>\n",
       "      <th>2</th>\n",
       "      <td>F106Q1000086</td>\n",
       "      <td>200605</td>\n",
       "      <td>127000.0</td>\n",
       "      <td>0</td>\n",
       "      <td>3</td>\n",
       "      <td>357</td>\n",
       "      <td>NaN</td>\n",
       "      <td>NaN</td>\n",
       "      <td>NaN</td>\n",
       "      <td>NaN</td>\n",
       "      <td>...</td>\n",
       "      <td>NaN</td>\n",
       "      <td>NaN</td>\n",
       "      <td>NaN</td>\n",
       "      <td>NaN</td>\n",
       "      <td>NaN</td>\n",
       "      <td>NaN</td>\n",
       "      <td>NaN</td>\n",
       "      <td>NaN</td>\n",
       "      <td></td>\n",
       "      <td>NaN</td>\n",
       "    </tr>\n",
       "    <tr>\n",
       "      <th>3</th>\n",
       "      <td>F106Q1000086</td>\n",
       "      <td>200606</td>\n",
       "      <td>127000.0</td>\n",
       "      <td>0</td>\n",
       "      <td>4</td>\n",
       "      <td>356</td>\n",
       "      <td>NaN</td>\n",
       "      <td>NaN</td>\n",
       "      <td>NaN</td>\n",
       "      <td>NaN</td>\n",
       "      <td>...</td>\n",
       "      <td>NaN</td>\n",
       "      <td>NaN</td>\n",
       "      <td>NaN</td>\n",
       "      <td>NaN</td>\n",
       "      <td>NaN</td>\n",
       "      <td>NaN</td>\n",
       "      <td>NaN</td>\n",
       "      <td>NaN</td>\n",
       "      <td></td>\n",
       "      <td>NaN</td>\n",
       "    </tr>\n",
       "    <tr>\n",
       "      <th>4</th>\n",
       "      <td>F106Q1000086</td>\n",
       "      <td>200607</td>\n",
       "      <td>126000.0</td>\n",
       "      <td>0</td>\n",
       "      <td>5</td>\n",
       "      <td>355</td>\n",
       "      <td>NaN</td>\n",
       "      <td>NaN</td>\n",
       "      <td>NaN</td>\n",
       "      <td>NaN</td>\n",
       "      <td>...</td>\n",
       "      <td>NaN</td>\n",
       "      <td>NaN</td>\n",
       "      <td>NaN</td>\n",
       "      <td>NaN</td>\n",
       "      <td>NaN</td>\n",
       "      <td>NaN</td>\n",
       "      <td>NaN</td>\n",
       "      <td>NaN</td>\n",
       "      <td></td>\n",
       "      <td>NaN</td>\n",
       "    </tr>\n",
       "  </tbody>\n",
       "</table>\n",
       "<p>5 rows × 26 columns</p>\n",
       "</div>"
      ],
      "text/plain": [
       "   F106Q1000086  200602    128000  0  0.1  360 Unnamed: 6 Unnamed: 7  \\\n",
       "0  F106Q1000086  200603  128000.0  0    1  359        NaN        NaN   \n",
       "1  F106Q1000086  200604  128000.0  0    2  358        NaN        NaN   \n",
       "2  F106Q1000086  200605  127000.0  0    3  357        NaN        NaN   \n",
       "3  F106Q1000086  200606  127000.0  0    4  356        NaN        NaN   \n",
       "4  F106Q1000086  200607  126000.0  0    5  355        NaN        NaN   \n",
       "\n",
       "   Unnamed: 8  Unnamed: 9     ...       Unnamed: 16  Unnamed: 17  Unnamed: 18  \\\n",
       "0         NaN         NaN     ...               NaN          NaN          NaN   \n",
       "1         NaN         NaN     ...               NaN          NaN          NaN   \n",
       "2         NaN         NaN     ...               NaN          NaN          NaN   \n",
       "3         NaN         NaN     ...               NaN          NaN          NaN   \n",
       "4         NaN         NaN     ...               NaN          NaN          NaN   \n",
       "\n",
       "   Unnamed: 19 Unnamed: 20  Unnamed: 21  Unnamed: 22  Unnamed: 23     \\\n",
       "0          NaN         NaN          NaN          NaN          NaN      \n",
       "1          NaN         NaN          NaN          NaN          NaN      \n",
       "2          NaN         NaN          NaN          NaN          NaN      \n",
       "3          NaN         NaN          NaN          NaN          NaN      \n",
       "4          NaN         NaN          NaN          NaN          NaN      \n",
       "\n",
       "   Unnamed: 25  \n",
       "0          NaN  \n",
       "1          NaN  \n",
       "2          NaN  \n",
       "3          NaN  \n",
       "4          NaN  \n",
       "\n",
       "[5 rows x 26 columns]"
      ]
     },
     "execution_count": 107,
     "metadata": {},
     "output_type": "execute_result"
    }
   ],
   "source": [
    "df.head(5)"
   ]
  },
  {
   "cell_type": "markdown",
   "metadata": {},
   "source": [
    "Naming the columns in the dataset to begin analysis and viewing the top 5 rows again"
   ]
  },
  {
   "cell_type": "code",
   "execution_count": 108,
   "metadata": {},
   "outputs": [
    {
     "data": {
      "text/html": [
       "<div>\n",
       "<style scoped>\n",
       "    .dataframe tbody tr th:only-of-type {\n",
       "        vertical-align: middle;\n",
       "    }\n",
       "\n",
       "    .dataframe tbody tr th {\n",
       "        vertical-align: top;\n",
       "    }\n",
       "\n",
       "    .dataframe thead th {\n",
       "        text-align: right;\n",
       "    }\n",
       "</style>\n",
       "<table border=\"1\" class=\"dataframe\">\n",
       "  <thead>\n",
       "    <tr style=\"text-align: right;\">\n",
       "      <th></th>\n",
       "      <th>LOAN SEQUENCE NUMBER</th>\n",
       "      <th>MONTHLY REPORTING PERIOD</th>\n",
       "      <th>CURRENT ACTUAL UPB</th>\n",
       "      <th>CURRENT LOAN DELINQUENCY STATUS</th>\n",
       "      <th>LOAN AGE</th>\n",
       "      <th>REMAINING MONTHS TO LEGAL MATURITY</th>\n",
       "      <th>REPURCHASE FLAG</th>\n",
       "      <th>MODIFICATION FLAG</th>\n",
       "      <th>ZERO BALANCE CODE</th>\n",
       "      <th>ZERO BALANCE EFFECTIVE DATE</th>\n",
       "      <th>...</th>\n",
       "      <th>EXPENSES</th>\n",
       "      <th>LEGAL COSTS</th>\n",
       "      <th>MAINTENANCE AND PRESERVATION COSTS</th>\n",
       "      <th>TAXES AND INSURANCE</th>\n",
       "      <th>MISCELLANEOUS EXPENSES</th>\n",
       "      <th>ACTUAL LOSS CALCULATION</th>\n",
       "      <th>MODIFICATION COST</th>\n",
       "      <th>STEP MODIFICATION FLAG</th>\n",
       "      <th>DEFERRED PAYMENT MODIFICATION</th>\n",
       "      <th>ESTIMATED LOAN TO VALUE (ELTV)</th>\n",
       "    </tr>\n",
       "  </thead>\n",
       "  <tbody>\n",
       "    <tr>\n",
       "      <th>0</th>\n",
       "      <td>F106Q1000086</td>\n",
       "      <td>200603</td>\n",
       "      <td>128000.0</td>\n",
       "      <td>0</td>\n",
       "      <td>1</td>\n",
       "      <td>359</td>\n",
       "      <td>NaN</td>\n",
       "      <td>NaN</td>\n",
       "      <td>NaN</td>\n",
       "      <td>NaN</td>\n",
       "      <td>...</td>\n",
       "      <td>NaN</td>\n",
       "      <td>NaN</td>\n",
       "      <td>NaN</td>\n",
       "      <td>NaN</td>\n",
       "      <td>NaN</td>\n",
       "      <td>NaN</td>\n",
       "      <td>NaN</td>\n",
       "      <td>NaN</td>\n",
       "      <td></td>\n",
       "      <td>NaN</td>\n",
       "    </tr>\n",
       "    <tr>\n",
       "      <th>1</th>\n",
       "      <td>F106Q1000086</td>\n",
       "      <td>200604</td>\n",
       "      <td>128000.0</td>\n",
       "      <td>0</td>\n",
       "      <td>2</td>\n",
       "      <td>358</td>\n",
       "      <td>NaN</td>\n",
       "      <td>NaN</td>\n",
       "      <td>NaN</td>\n",
       "      <td>NaN</td>\n",
       "      <td>...</td>\n",
       "      <td>NaN</td>\n",
       "      <td>NaN</td>\n",
       "      <td>NaN</td>\n",
       "      <td>NaN</td>\n",
       "      <td>NaN</td>\n",
       "      <td>NaN</td>\n",
       "      <td>NaN</td>\n",
       "      <td>NaN</td>\n",
       "      <td></td>\n",
       "      <td>NaN</td>\n",
       "    </tr>\n",
       "    <tr>\n",
       "      <th>2</th>\n",
       "      <td>F106Q1000086</td>\n",
       "      <td>200605</td>\n",
       "      <td>127000.0</td>\n",
       "      <td>0</td>\n",
       "      <td>3</td>\n",
       "      <td>357</td>\n",
       "      <td>NaN</td>\n",
       "      <td>NaN</td>\n",
       "      <td>NaN</td>\n",
       "      <td>NaN</td>\n",
       "      <td>...</td>\n",
       "      <td>NaN</td>\n",
       "      <td>NaN</td>\n",
       "      <td>NaN</td>\n",
       "      <td>NaN</td>\n",
       "      <td>NaN</td>\n",
       "      <td>NaN</td>\n",
       "      <td>NaN</td>\n",
       "      <td>NaN</td>\n",
       "      <td></td>\n",
       "      <td>NaN</td>\n",
       "    </tr>\n",
       "    <tr>\n",
       "      <th>3</th>\n",
       "      <td>F106Q1000086</td>\n",
       "      <td>200606</td>\n",
       "      <td>127000.0</td>\n",
       "      <td>0</td>\n",
       "      <td>4</td>\n",
       "      <td>356</td>\n",
       "      <td>NaN</td>\n",
       "      <td>NaN</td>\n",
       "      <td>NaN</td>\n",
       "      <td>NaN</td>\n",
       "      <td>...</td>\n",
       "      <td>NaN</td>\n",
       "      <td>NaN</td>\n",
       "      <td>NaN</td>\n",
       "      <td>NaN</td>\n",
       "      <td>NaN</td>\n",
       "      <td>NaN</td>\n",
       "      <td>NaN</td>\n",
       "      <td>NaN</td>\n",
       "      <td></td>\n",
       "      <td>NaN</td>\n",
       "    </tr>\n",
       "    <tr>\n",
       "      <th>4</th>\n",
       "      <td>F106Q1000086</td>\n",
       "      <td>200607</td>\n",
       "      <td>126000.0</td>\n",
       "      <td>0</td>\n",
       "      <td>5</td>\n",
       "      <td>355</td>\n",
       "      <td>NaN</td>\n",
       "      <td>NaN</td>\n",
       "      <td>NaN</td>\n",
       "      <td>NaN</td>\n",
       "      <td>...</td>\n",
       "      <td>NaN</td>\n",
       "      <td>NaN</td>\n",
       "      <td>NaN</td>\n",
       "      <td>NaN</td>\n",
       "      <td>NaN</td>\n",
       "      <td>NaN</td>\n",
       "      <td>NaN</td>\n",
       "      <td>NaN</td>\n",
       "      <td></td>\n",
       "      <td>NaN</td>\n",
       "    </tr>\n",
       "  </tbody>\n",
       "</table>\n",
       "<p>5 rows × 26 columns</p>\n",
       "</div>"
      ],
      "text/plain": [
       "  LOAN SEQUENCE NUMBER  MONTHLY REPORTING PERIOD  CURRENT ACTUAL UPB  \\\n",
       "0         F106Q1000086                    200603            128000.0   \n",
       "1         F106Q1000086                    200604            128000.0   \n",
       "2         F106Q1000086                    200605            127000.0   \n",
       "3         F106Q1000086                    200606            127000.0   \n",
       "4         F106Q1000086                    200607            126000.0   \n",
       "\n",
       "  CURRENT LOAN DELINQUENCY STATUS  LOAN AGE  \\\n",
       "0                               0         1   \n",
       "1                               0         2   \n",
       "2                               0         3   \n",
       "3                               0         4   \n",
       "4                               0         5   \n",
       "\n",
       "   REMAINING MONTHS TO LEGAL MATURITY REPURCHASE FLAG MODIFICATION FLAG  \\\n",
       "0                                 359             NaN               NaN   \n",
       "1                                 358             NaN               NaN   \n",
       "2                                 357             NaN               NaN   \n",
       "3                                 356             NaN               NaN   \n",
       "4                                 355             NaN               NaN   \n",
       "\n",
       "   ZERO BALANCE CODE  ZERO BALANCE EFFECTIVE DATE  \\\n",
       "0                NaN                          NaN   \n",
       "1                NaN                          NaN   \n",
       "2                NaN                          NaN   \n",
       "3                NaN                          NaN   \n",
       "4                NaN                          NaN   \n",
       "\n",
       "                ...                EXPENSES  LEGAL COSTS  \\\n",
       "0               ...                     NaN          NaN   \n",
       "1               ...                     NaN          NaN   \n",
       "2               ...                     NaN          NaN   \n",
       "3               ...                     NaN          NaN   \n",
       "4               ...                     NaN          NaN   \n",
       "\n",
       "   MAINTENANCE AND PRESERVATION COSTS  TAXES AND INSURANCE  \\\n",
       "0                                 NaN                  NaN   \n",
       "1                                 NaN                  NaN   \n",
       "2                                 NaN                  NaN   \n",
       "3                                 NaN                  NaN   \n",
       "4                                 NaN                  NaN   \n",
       "\n",
       "  MISCELLANEOUS EXPENSES  ACTUAL LOSS CALCULATION  MODIFICATION COST  \\\n",
       "0                    NaN                      NaN                NaN   \n",
       "1                    NaN                      NaN                NaN   \n",
       "2                    NaN                      NaN                NaN   \n",
       "3                    NaN                      NaN                NaN   \n",
       "4                    NaN                      NaN                NaN   \n",
       "\n",
       "   STEP MODIFICATION FLAG  DEFERRED PAYMENT MODIFICATION  \\\n",
       "0                     NaN                                  \n",
       "1                     NaN                                  \n",
       "2                     NaN                                  \n",
       "3                     NaN                                  \n",
       "4                     NaN                                  \n",
       "\n",
       "   ESTIMATED LOAN TO VALUE (ELTV)  \n",
       "0                             NaN  \n",
       "1                             NaN  \n",
       "2                             NaN  \n",
       "3                             NaN  \n",
       "4                             NaN  \n",
       "\n",
       "[5 rows x 26 columns]"
      ]
     },
     "execution_count": 108,
     "metadata": {},
     "output_type": "execute_result"
    }
   ],
   "source": [
    "df.columns = [\"LOAN SEQUENCE NUMBER\",\"MONTHLY REPORTING PERIOD\",\"CURRENT ACTUAL UPB\",\"CURRENT LOAN DELINQUENCY STATUS\",\"LOAN AGE\",\n",
    "               \"REMAINING MONTHS TO LEGAL MATURITY\",\"REPURCHASE FLAG\",\"MODIFICATION FLAG\",\"ZERO BALANCE CODE\",\"ZERO BALANCE EFFECTIVE DATE\",\n",
    "               \"CURRENT INTEREST RATE\",\"CURRENT DEFERRED UPB\",\"DUE DATE OF LAST PAID INSTALLMENT (DDLPI)\",\"MI RECOVERIES\",\"NET SALES PROCEEDS\",\n",
    "               \"NON MI RECOVERIES\",\"EXPENSES\",\"LEGAL COSTS\",\"MAINTENANCE AND PRESERVATION COSTS\",\"TAXES AND INSURANCE\",\"MISCELLANEOUS EXPENSES\",\n",
    "               \"ACTUAL LOSS CALCULATION\",\"MODIFICATION COST\",\"STEP MODIFICATION FLAG\",\"DEFERRED PAYMENT MODIFICATION\",\"ESTIMATED LOAN TO VALUE (ELTV)\"]\n",
    "df.head(5)"
   ]
  },
  {
   "cell_type": "markdown",
   "metadata": {},
   "source": [
    "The dataset seems to have a lot of missing values, thus we shall first investigate the number of missing values in each column"
   ]
  },
  {
   "cell_type": "code",
   "execution_count": 109,
   "metadata": {},
   "outputs": [
    {
     "data": {
      "text/html": [
       "<div>\n",
       "<style scoped>\n",
       "    .dataframe tbody tr th:only-of-type {\n",
       "        vertical-align: middle;\n",
       "    }\n",
       "\n",
       "    .dataframe tbody tr th {\n",
       "        vertical-align: top;\n",
       "    }\n",
       "\n",
       "    .dataframe thead th {\n",
       "        text-align: right;\n",
       "    }\n",
       "</style>\n",
       "<table border=\"1\" class=\"dataframe\">\n",
       "  <thead>\n",
       "    <tr style=\"text-align: right;\">\n",
       "      <th></th>\n",
       "      <th>column_name</th>\n",
       "      <th>missing_count</th>\n",
       "    </tr>\n",
       "  </thead>\n",
       "  <tbody>\n",
       "    <tr>\n",
       "      <th>0</th>\n",
       "      <td>LOAN SEQUENCE NUMBER</td>\n",
       "      <td>0</td>\n",
       "    </tr>\n",
       "    <tr>\n",
       "      <th>1</th>\n",
       "      <td>MONTHLY REPORTING PERIOD</td>\n",
       "      <td>0</td>\n",
       "    </tr>\n",
       "    <tr>\n",
       "      <th>2</th>\n",
       "      <td>CURRENT ACTUAL UPB</td>\n",
       "      <td>0</td>\n",
       "    </tr>\n",
       "    <tr>\n",
       "      <th>3</th>\n",
       "      <td>CURRENT LOAN DELINQUENCY STATUS</td>\n",
       "      <td>0</td>\n",
       "    </tr>\n",
       "    <tr>\n",
       "      <th>4</th>\n",
       "      <td>LOAN AGE</td>\n",
       "      <td>0</td>\n",
       "    </tr>\n",
       "    <tr>\n",
       "      <th>5</th>\n",
       "      <td>REMAINING MONTHS TO LEGAL MATURITY</td>\n",
       "      <td>0</td>\n",
       "    </tr>\n",
       "    <tr>\n",
       "      <th>6</th>\n",
       "      <td>REPURCHASE FLAG</td>\n",
       "      <td>2936251</td>\n",
       "    </tr>\n",
       "    <tr>\n",
       "      <th>7</th>\n",
       "      <td>MODIFICATION FLAG</td>\n",
       "      <td>2978651</td>\n",
       "    </tr>\n",
       "    <tr>\n",
       "      <th>8</th>\n",
       "      <td>ZERO BALANCE CODE</td>\n",
       "      <td>2936277</td>\n",
       "    </tr>\n",
       "    <tr>\n",
       "      <th>9</th>\n",
       "      <td>ZERO BALANCE EFFECTIVE DATE</td>\n",
       "      <td>2936277</td>\n",
       "    </tr>\n",
       "    <tr>\n",
       "      <th>10</th>\n",
       "      <td>CURRENT INTEREST RATE</td>\n",
       "      <td>0</td>\n",
       "    </tr>\n",
       "    <tr>\n",
       "      <th>11</th>\n",
       "      <td>CURRENT DEFERRED UPB</td>\n",
       "      <td>0</td>\n",
       "    </tr>\n",
       "    <tr>\n",
       "      <th>12</th>\n",
       "      <td>DUE DATE OF LAST PAID INSTALLMENT (DDLPI)</td>\n",
       "      <td>2976153</td>\n",
       "    </tr>\n",
       "    <tr>\n",
       "      <th>13</th>\n",
       "      <td>MI RECOVERIES</td>\n",
       "      <td>2977599</td>\n",
       "    </tr>\n",
       "    <tr>\n",
       "      <th>14</th>\n",
       "      <td>NET SALES PROCEEDS</td>\n",
       "      <td>2977599</td>\n",
       "    </tr>\n",
       "    <tr>\n",
       "      <th>15</th>\n",
       "      <td>NON MI RECOVERIES</td>\n",
       "      <td>2977599</td>\n",
       "    </tr>\n",
       "    <tr>\n",
       "      <th>16</th>\n",
       "      <td>EXPENSES</td>\n",
       "      <td>2977599</td>\n",
       "    </tr>\n",
       "    <tr>\n",
       "      <th>17</th>\n",
       "      <td>LEGAL COSTS</td>\n",
       "      <td>2977599</td>\n",
       "    </tr>\n",
       "    <tr>\n",
       "      <th>18</th>\n",
       "      <td>MAINTENANCE AND PRESERVATION COSTS</td>\n",
       "      <td>2977599</td>\n",
       "    </tr>\n",
       "    <tr>\n",
       "      <th>19</th>\n",
       "      <td>TAXES AND INSURANCE</td>\n",
       "      <td>2977599</td>\n",
       "    </tr>\n",
       "    <tr>\n",
       "      <th>20</th>\n",
       "      <td>MISCELLANEOUS EXPENSES</td>\n",
       "      <td>2977599</td>\n",
       "    </tr>\n",
       "    <tr>\n",
       "      <th>21</th>\n",
       "      <td>ACTUAL LOSS CALCULATION</td>\n",
       "      <td>2977599</td>\n",
       "    </tr>\n",
       "    <tr>\n",
       "      <th>22</th>\n",
       "      <td>MODIFICATION COST</td>\n",
       "      <td>2931803</td>\n",
       "    </tr>\n",
       "    <tr>\n",
       "      <th>23</th>\n",
       "      <td>STEP MODIFICATION FLAG</td>\n",
       "      <td>2978651</td>\n",
       "    </tr>\n",
       "    <tr>\n",
       "      <th>24</th>\n",
       "      <td>DEFERRED PAYMENT MODIFICATION</td>\n",
       "      <td>0</td>\n",
       "    </tr>\n",
       "    <tr>\n",
       "      <th>25</th>\n",
       "      <td>ESTIMATED LOAN TO VALUE (ELTV)</td>\n",
       "      <td>2937764</td>\n",
       "    </tr>\n",
       "  </tbody>\n",
       "</table>\n",
       "</div>"
      ],
      "text/plain": [
       "                                  column_name  missing_count\n",
       "0                        LOAN SEQUENCE NUMBER              0\n",
       "1                    MONTHLY REPORTING PERIOD              0\n",
       "2                          CURRENT ACTUAL UPB              0\n",
       "3             CURRENT LOAN DELINQUENCY STATUS              0\n",
       "4                                    LOAN AGE              0\n",
       "5          REMAINING MONTHS TO LEGAL MATURITY              0\n",
       "6                             REPURCHASE FLAG        2936251\n",
       "7                           MODIFICATION FLAG        2978651\n",
       "8                           ZERO BALANCE CODE        2936277\n",
       "9                 ZERO BALANCE EFFECTIVE DATE        2936277\n",
       "10                      CURRENT INTEREST RATE              0\n",
       "11                       CURRENT DEFERRED UPB              0\n",
       "12  DUE DATE OF LAST PAID INSTALLMENT (DDLPI)        2976153\n",
       "13                              MI RECOVERIES        2977599\n",
       "14                         NET SALES PROCEEDS        2977599\n",
       "15                          NON MI RECOVERIES        2977599\n",
       "16                                   EXPENSES        2977599\n",
       "17                                LEGAL COSTS        2977599\n",
       "18         MAINTENANCE AND PRESERVATION COSTS        2977599\n",
       "19                        TAXES AND INSURANCE        2977599\n",
       "20                     MISCELLANEOUS EXPENSES        2977599\n",
       "21                    ACTUAL LOSS CALCULATION        2977599\n",
       "22                          MODIFICATION COST        2931803\n",
       "23                     STEP MODIFICATION FLAG        2978651\n",
       "24              DEFERRED PAYMENT MODIFICATION              0\n",
       "25             ESTIMATED LOAN TO VALUE (ELTV)        2937764"
      ]
     },
     "execution_count": 109,
     "metadata": {},
     "output_type": "execute_result"
    }
   ],
   "source": [
    "#Investigating missing values in the dataset\n",
    "missing_df = df.isnull().sum(axis=0).reset_index()\n",
    "missing_df.columns = ['column_name', 'missing_count']\n",
    "#missing_df = missing_df.sort_values(by='missing_count')\n",
    "missing_df"
   ]
  },
  {
   "cell_type": "markdown",
   "metadata": {},
   "source": [
    "The columns with missing values seem to be missing over 95% of the data and there is no way we can regenerate the missing values, as such we have decided to drop these columns"
   ]
  },
  {
   "cell_type": "code",
   "execution_count": 110,
   "metadata": {},
   "outputs": [],
   "source": [
    "def drop_missing_values(df):\n",
    "    df.drop('REPURCHASE FLAG',axis=1,inplace=True)\n",
    "    df.drop('MODIFICATION FLAG',axis=1,inplace=True)\n",
    "    df.drop('ZERO BALANCE CODE',axis=1,inplace=True)\n",
    "    df.drop('ZERO BALANCE EFFECTIVE DATE',axis=1,inplace=True)\n",
    "    df.drop('DUE DATE OF LAST PAID INSTALLMENT (DDLPI)',axis=1,inplace=True)\n",
    "    df.drop('MI RECOVERIES',axis=1,inplace=True)\n",
    "    df.drop('NET SALES PROCEEDS',axis=1,inplace=True)\n",
    "    df.drop('NON MI RECOVERIES',axis=1,inplace=True)\n",
    "    df.drop('EXPENSES',axis=1,inplace=True)\n",
    "    df.drop('LEGAL COSTS',axis=1,inplace=True)\n",
    "    df.drop('MAINTENANCE AND PRESERVATION COSTS',axis=1,inplace=True)\n",
    "    df.drop('TAXES AND INSURANCE',axis=1,inplace=True)\n",
    "    df.drop('MISCELLANEOUS EXPENSES',axis=1,inplace=True)\n",
    "    df.drop('ACTUAL LOSS CALCULATION',axis=1,inplace=True)\n",
    "    df.drop('MODIFICATION COST',axis=1,inplace=True)\n",
    "    df.drop('STEP MODIFICATION FLAG',axis=1,inplace=True)\n",
    "    df.drop('ESTIMATED LOAN TO VALUE (ELTV)',axis=1,inplace=True)\n",
    "    df['DELINQUENT']=['N' if x == '0' else 'Y' for x in df['CURRENT LOAN DELINQUENCY STATUS']]\n",
    "    df.drop('DEFERRED PAYMENT MODIFICATION',axis=1,inplace=True)\n",
    "    df.drop('CURRENT LOAN DELINQUENCY STATUS',axis=1,inplace=True)\n",
    "    df['REPORTING YEAR'] =  [int(str(d)[:4]) for d in df['MONTHLY REPORTING PERIOD']]\n",
    "    return df"
   ]
  },
  {
   "cell_type": "markdown",
   "metadata": {},
   "source": [
    "Extracting the new dataset after deleting all the empty columns"
   ]
  },
  {
   "cell_type": "code",
   "execution_count": 111,
   "metadata": {},
   "outputs": [],
   "source": [
    "val = drop_missing_values(df)"
   ]
  },
  {
   "cell_type": "code",
   "execution_count": 112,
   "metadata": {},
   "outputs": [
    {
     "data": {
      "text/html": [
       "<div>\n",
       "<style scoped>\n",
       "    .dataframe tbody tr th:only-of-type {\n",
       "        vertical-align: middle;\n",
       "    }\n",
       "\n",
       "    .dataframe tbody tr th {\n",
       "        vertical-align: top;\n",
       "    }\n",
       "\n",
       "    .dataframe thead th {\n",
       "        text-align: right;\n",
       "    }\n",
       "</style>\n",
       "<table border=\"1\" class=\"dataframe\">\n",
       "  <thead>\n",
       "    <tr style=\"text-align: right;\">\n",
       "      <th></th>\n",
       "      <th>LOAN SEQUENCE NUMBER</th>\n",
       "      <th>MONTHLY REPORTING PERIOD</th>\n",
       "      <th>CURRENT ACTUAL UPB</th>\n",
       "      <th>LOAN AGE</th>\n",
       "      <th>REMAINING MONTHS TO LEGAL MATURITY</th>\n",
       "      <th>CURRENT INTEREST RATE</th>\n",
       "      <th>CURRENT DEFERRED UPB</th>\n",
       "      <th>DELINQUENT</th>\n",
       "      <th>REPORTING YEAR</th>\n",
       "    </tr>\n",
       "  </thead>\n",
       "  <tbody>\n",
       "    <tr>\n",
       "      <th>0</th>\n",
       "      <td>F106Q1000086</td>\n",
       "      <td>200603</td>\n",
       "      <td>128000.0</td>\n",
       "      <td>1</td>\n",
       "      <td>359</td>\n",
       "      <td>6.375</td>\n",
       "      <td>0.0</td>\n",
       "      <td>N</td>\n",
       "      <td>2006</td>\n",
       "    </tr>\n",
       "    <tr>\n",
       "      <th>1</th>\n",
       "      <td>F106Q1000086</td>\n",
       "      <td>200604</td>\n",
       "      <td>128000.0</td>\n",
       "      <td>2</td>\n",
       "      <td>358</td>\n",
       "      <td>6.375</td>\n",
       "      <td>0.0</td>\n",
       "      <td>N</td>\n",
       "      <td>2006</td>\n",
       "    </tr>\n",
       "    <tr>\n",
       "      <th>2</th>\n",
       "      <td>F106Q1000086</td>\n",
       "      <td>200605</td>\n",
       "      <td>127000.0</td>\n",
       "      <td>3</td>\n",
       "      <td>357</td>\n",
       "      <td>6.375</td>\n",
       "      <td>0.0</td>\n",
       "      <td>N</td>\n",
       "      <td>2006</td>\n",
       "    </tr>\n",
       "    <tr>\n",
       "      <th>3</th>\n",
       "      <td>F106Q1000086</td>\n",
       "      <td>200606</td>\n",
       "      <td>127000.0</td>\n",
       "      <td>4</td>\n",
       "      <td>356</td>\n",
       "      <td>6.375</td>\n",
       "      <td>0.0</td>\n",
       "      <td>N</td>\n",
       "      <td>2006</td>\n",
       "    </tr>\n",
       "    <tr>\n",
       "      <th>4</th>\n",
       "      <td>F106Q1000086</td>\n",
       "      <td>200607</td>\n",
       "      <td>126000.0</td>\n",
       "      <td>5</td>\n",
       "      <td>355</td>\n",
       "      <td>6.375</td>\n",
       "      <td>0.0</td>\n",
       "      <td>N</td>\n",
       "      <td>2006</td>\n",
       "    </tr>\n",
       "  </tbody>\n",
       "</table>\n",
       "</div>"
      ],
      "text/plain": [
       "  LOAN SEQUENCE NUMBER  MONTHLY REPORTING PERIOD  CURRENT ACTUAL UPB  \\\n",
       "0         F106Q1000086                    200603            128000.0   \n",
       "1         F106Q1000086                    200604            128000.0   \n",
       "2         F106Q1000086                    200605            127000.0   \n",
       "3         F106Q1000086                    200606            127000.0   \n",
       "4         F106Q1000086                    200607            126000.0   \n",
       "\n",
       "   LOAN AGE  REMAINING MONTHS TO LEGAL MATURITY  CURRENT INTEREST RATE  \\\n",
       "0         1                                 359                  6.375   \n",
       "1         2                                 358                  6.375   \n",
       "2         3                                 357                  6.375   \n",
       "3         4                                 356                  6.375   \n",
       "4         5                                 355                  6.375   \n",
       "\n",
       "   CURRENT DEFERRED UPB DELINQUENT  REPORTING YEAR  \n",
       "0                   0.0          N            2006  \n",
       "1                   0.0          N            2006  \n",
       "2                   0.0          N            2006  \n",
       "3                   0.0          N            2006  \n",
       "4                   0.0          N            2006  "
      ]
     },
     "execution_count": 112,
     "metadata": {},
     "output_type": "execute_result"
    }
   ],
   "source": [
    "val.head()"
   ]
  },
  {
   "cell_type": "markdown",
   "metadata": {},
   "source": [
    "Looking at the shape of the new output"
   ]
  },
  {
   "cell_type": "code",
   "execution_count": 113,
   "metadata": {},
   "outputs": [
    {
     "data": {
      "text/plain": [
       "(2981800, 9)"
      ]
     },
     "execution_count": 113,
     "metadata": {},
     "output_type": "execute_result"
    }
   ],
   "source": [
    "val.shape"
   ]
  },
  {
   "cell_type": "markdown",
   "metadata": {},
   "source": [
    "# Feature Exploration"
   ]
  },
  {
   "cell_type": "markdown",
   "metadata": {},
   "source": [
    "What is the distribution of loans amounts in the dataset"
   ]
  },
  {
   "cell_type": "code",
   "execution_count": 114,
   "metadata": {},
   "outputs": [
    {
     "data": {
      "image/png": "[encoded data removed]",
      "text/plain": [
       "<Figure size 432x288 with 1 Axes>"
      ]
     },
     "metadata": {},
     "output_type": "display_data"
    },
    {
     "name": "stdout",
     "output_type": "stream",
     "text": [
      "count    2.981800e+06\n",
      "mean     1.573209e+05\n",
      "std      9.217480e+04\n",
      "min      0.000000e+00\n",
      "25%      8.916019e+04\n",
      "50%      1.395114e+05\n",
      "75%      2.090000e+05\n",
      "max      8.020000e+05\n",
      "Name: CURRENT ACTUAL UPB, dtype: float64\n"
     ]
    }
   ],
   "source": [
    "val['CURRENT ACTUAL UPB'].plot(kind='hist')\n",
    "plt.title('Histogram Showing Loan Amounts - ($)')\n",
    "plt.xlabel('Loan Amount ($)')\n",
    "plt.ylabel('Count of loans')\n",
    "plt.show()\n",
    "\n",
    "print(val['CURRENT ACTUAL UPB'].describe())"
   ]
  },
  {
   "cell_type": "markdown",
   "metadata": {},
   "source": [
    "The maximum loan amount is about 800k while the average loan amount in the quarter was about 157k"
   ]
  },
  {
   "cell_type": "markdown",
   "metadata": {},
   "source": [
    "# Loan Age"
   ]
  },
  {
   "cell_type": "code",
   "execution_count": 115,
   "metadata": {},
   "outputs": [
    {
     "data": {
      "text/plain": [
       "<matplotlib.axes._subplots.AxesSubplot at 0x22389b5ff28>"
      ]
     },
     "execution_count": 115,
     "metadata": {},
     "output_type": "execute_result"
    },
    {
     "data": {
      "image/png": "[encoded data removed]",
      "text/plain": [
       "<Figure size 432x288 with 1 Axes>"
      ]
     },
     "metadata": {},
     "output_type": "display_data"
    }
   ],
   "source": [
    "val['LOAN AGE'].hist()"
   ]
  },
  {
   "cell_type": "code",
   "execution_count": 116,
   "metadata": {},
   "outputs": [
    {
     "name": "stderr",
     "output_type": "stream",
     "text": [
      "C:\\ProgramData\\Anaconda4\\lib\\site-packages\\matplotlib\\axes\\_axes.py:6462: UserWarning: The 'normed' kwarg is deprecated, and has been replaced by the 'density' kwarg.\n",
      "  warnings.warn(\"The 'normed' kwarg is deprecated, and has been \"\n"
     ]
    },
    {
     "data": {
      "image/png": "[encoded data removed]",
      "text/plain": [
       "<Figure size 432x288 with 1 Axes>"
      ]
     },
     "metadata": {},
     "output_type": "display_data"
    },
    {
     "name": "stdout",
     "output_type": "stream",
     "text": [
      "count    2.981800e+06\n",
      "mean     4.269570e+01\n",
      "std      3.372185e+01\n",
      "min      0.000000e+00\n",
      "25%      1.600000e+01\n",
      "50%      3.400000e+01\n",
      "75%      6.200000e+01\n",
      "max      1.450000e+02\n",
      "Name: LOAN AGE, dtype: float64\n"
     ]
    }
   ],
   "source": [
    "# Histogram and density chart\n",
    "sns.distplot(val['LOAN AGE'], hist=True, kde=True, \n",
    "             bins=50, color = 'red', \n",
    "             hist_kws={'edgecolor':'black'},\n",
    "             kde_kws={'linewidth': 4})\n",
    "plt.xticks(rotation=90)\n",
    "plt.title('Interest Rate Distribution')\n",
    "plt.xlabel('Interest Rate')\n",
    "#plt.ylabel('Number of people')\n",
    "plt.show()\n",
    "\n",
    "print(val['LOAN AGE'].describe())"
   ]
  },
  {
   "cell_type": "markdown",
   "metadata": {},
   "source": [
    "Over 80% of the loans are less than 5 years old"
   ]
  },
  {
   "cell_type": "markdown",
   "metadata": {},
   "source": [
    "# Delinquency"
   ]
  },
  {
   "cell_type": "code",
   "execution_count": 117,
   "metadata": {},
   "outputs": [],
   "source": [
    "categorical_columns = df.select_dtypes(include=['object']).columns\n",
    "for col in categorical_columns:\n",
    "    df[col] = df[col].astype('category')"
   ]
  },
  {
   "cell_type": "code",
   "execution_count": 118,
   "metadata": {},
   "outputs": [
    {
     "data": {
      "image/png": "[encoded data removed]",
      "text/plain": [
       "<Figure size 432x288 with 1 Axes>"
      ]
     },
     "metadata": {},
     "output_type": "display_data"
    },
    {
     "data": {
      "text/plain": [
       "N    2750967\n",
       "Y     230833\n",
       "Name: DELINQUENT, dtype: int64"
      ]
     },
     "execution_count": 118,
     "metadata": {},
     "output_type": "execute_result"
    }
   ],
   "source": [
    "p_categories = val['DELINQUENT'].cat.categories.tolist()\n",
    "# Circle chart\n",
    "fig1, ax1 = plt.subplots()\n",
    "ax1.pie(val['DELINQUENT'].value_counts().sort_index().tolist(),\n",
    "        labels=p_categories,\n",
    "        autopct='%1.1f%%',\n",
    "        colors= sns.color_palette(\"cubehelix\", 2))\n",
    "\n",
    "ax1.axis('equal')\n",
    "\n",
    "centre_circle = plt.Circle((0,0),0.70,fc='white')\n",
    "fig = plt.gcf()\n",
    "fig.gca().add_artist(centre_circle)\n",
    "plt.xticks(rotation=90)\n",
    "plt.title('Delinquency Distribution of Loans in the Quarter')\n",
    "plt.tight_layout()\n",
    "plt.show()\n",
    "val['DELINQUENT'].value_counts()"
   ]
  },
  {
   "cell_type": "markdown",
   "metadata": {},
   "source": [
    "Only 7.7% of the loans in the quarter are non performing (delinquent)"
   ]
  },
  {
   "cell_type": "markdown",
   "metadata": {},
   "source": [
    "# Remaining Months to Legal Maturity"
   ]
  },
  {
   "cell_type": "code",
   "execution_count": 119,
   "metadata": {},
   "outputs": [
    {
     "name": "stdout",
     "output_type": "stream",
     "text": [
      "count    2.981800e+06\n",
      "mean     2.995063e+02\n",
      "std      7.389236e+01\n",
      "min     -1.000000e+00\n",
      "25%      2.810000e+02\n",
      "50%      3.220000e+02\n",
      "75%      3.440000e+02\n",
      "max      6.030000e+02\n",
      "Name: REMAINING MONTHS TO LEGAL MATURITY, dtype: float64\n"
     ]
    },
    {
     "data": {
      "image/png": "[encoded data removed]",
      "text/plain": [
       "<Figure size 432x288 with 1 Axes>"
      ]
     },
     "metadata": {},
     "output_type": "display_data"
    }
   ],
   "source": [
    "val['REMAINING MONTHS TO LEGAL MATURITY'].hist()\n",
    "plt.title('Histogram showing Loan Months to Maturity')\n",
    "plt.xlabel('Months')\n",
    "plt.ylabel('Loan Count')\n",
    "print(val['REMAINING MONTHS TO LEGAL MATURITY'].describe())"
   ]
  },
  {
   "cell_type": "markdown",
   "metadata": {},
   "source": [
    "One loan had been completely paid off before time, while the average months to legal maturity was about 300 months"
   ]
  },
  {
   "cell_type": "markdown",
   "metadata": {},
   "source": [
    "# CURRENT DEFERRED UPB"
   ]
  },
  {
   "cell_type": "code",
   "execution_count": 120,
   "metadata": {},
   "outputs": [
    {
     "data": {
      "text/plain": [
       "count    2.981800e+06\n",
       "mean     6.380236e+02\n",
       "std      7.164403e+03\n",
       "min      0.000000e+00\n",
       "25%      0.000000e+00\n",
       "50%      0.000000e+00\n",
       "75%      0.000000e+00\n",
       "max      2.710000e+05\n",
       "Name: CURRENT DEFERRED UPB, dtype: float64"
      ]
     },
     "execution_count": 120,
     "metadata": {},
     "output_type": "execute_result"
    }
   ],
   "source": [
    "val['CURRENT DEFERRED UPB'].describe()\n"
   ]
  },
  {
   "cell_type": "markdown",
   "metadata": {},
   "source": [
    "The mean non interest bearing loan amount during the quarter was 0, this means that almost all the mortgage loans in the dataset had no non interest bearing percentages "
   ]
  },
  {
   "cell_type": "markdown",
   "metadata": {},
   "source": [
    "# Interest Rate"
   ]
  },
  {
   "cell_type": "code",
   "execution_count": 121,
   "metadata": {},
   "outputs": [
    {
     "name": "stderr",
     "output_type": "stream",
     "text": [
      "C:\\ProgramData\\Anaconda4\\lib\\site-packages\\matplotlib\\axes\\_axes.py:6462: UserWarning: The 'normed' kwarg is deprecated, and has been replaced by the 'density' kwarg.\n",
      "  warnings.warn(\"The 'normed' kwarg is deprecated, and has been \"\n"
     ]
    },
    {
     "data": {
      "image/png": "[encoded data removed]",
      "text/plain": [
       "<Figure size 640x640 with 1 Axes>"
      ]
     },
     "metadata": {},
     "output_type": "display_data"
    },
    {
     "name": "stdout",
     "output_type": "stream",
     "text": [
      "count    2.981800e+06\n",
      "mean     6.270802e+00\n",
      "std      7.564623e-01\n",
      "min      0.000000e+00\n",
      "25%      6.125000e+00\n",
      "50%      6.375000e+00\n",
      "75%      6.625000e+00\n",
      "max      5.000000e+01\n",
      "Name: CURRENT INTEREST RATE, dtype: float64\n"
     ]
    }
   ],
   "source": [
    "plt.figure(figsize=(8, 8), dpi=80)\n",
    "\n",
    "sns.distplot(val['CURRENT INTEREST RATE'], hist=True, kde=True, \n",
    "             bins=50, color = 'blue', \n",
    "             hist_kws={'edgecolor':'black'},\n",
    "             kde_kws={'linewidth': 4})\n",
    "plt.xticks(rotation=90)\n",
    "plt.title('Distribution of Interest Rates ')\n",
    "plt.xlabel('Interest rate')\n",
    "plt.ylabel('Count of loans')\n",
    "plt.show()\n",
    "\n",
    "print(val['CURRENT INTEREST RATE'].describe())"
   ]
  },
  {
   "cell_type": "markdown",
   "metadata": {},
   "source": [
    "The highest interest rate was about 50%. Overall the interest rate for the loans in the dataset was between 0 and 10%"
   ]
  },
  {
   "cell_type": "markdown",
   "metadata": {},
   "source": [
    "# MONTHLY REPORTING PERIOD"
   ]
  },
  {
   "cell_type": "code",
   "execution_count": null,
   "metadata": {},
   "outputs": [],
   "source": []
  },
  {
   "cell_type": "code",
   "execution_count": 125,
   "metadata": {},
   "outputs": [
    {
     "data": {
      "text/plain": [
       "2007    548494\n",
       "2008    495741\n",
       "2009    411428\n",
       "2010    326258\n",
       "2011    258029\n",
       "2006    247850\n",
       "2012    202146\n",
       "2013    142327\n",
       "2014    109581\n",
       "2015     89764\n",
       "2016     74401\n",
       "2017     61966\n",
       "2018     13815\n",
       "Name: REPORTING YEAR, dtype: int64"
      ]
     },
     "execution_count": 125,
     "metadata": {},
     "output_type": "execute_result"
    }
   ],
   "source": [
    "val['REPORTING YEAR'].value_counts()"
   ]
  },
  {
   "cell_type": "code",
   "execution_count": 134,
   "metadata": {},
   "outputs": [],
   "source": [
    "lists_yes = [0] *13\n",
    "lists_no = [0] *13\n",
    "for i in range(val.shape[0]):\n",
    "    if val['DELINQUENT'][i] == 'Y':\n",
    "        lists_yes[val['REPORTING YEAR'][i]-2006]=lists_yes[val['REPORTING YEAR'][i]-2006]+1\n",
    "    else:\n",
    "        lists_no[val['REPORTING YEAR'][i]-2006]=lists_no[val['REPORTING YEAR'][i]-2006]+1\n",
    "        \n",
    "    "
   ]
  },
  {
   "cell_type": "code",
   "execution_count": 138,
   "metadata": {},
   "outputs": [
    {
     "data": {
      "text/plain": [
       "[246376,\n",
       " 540322,\n",
       " 479286,\n",
       " 379631,\n",
       " 287872,\n",
       " 224137,\n",
       " 173063,\n",
       " 119398,\n",
       " 92507,\n",
       " 77270,\n",
       " 64772,\n",
       " 54357,\n",
       " 11976]"
      ]
     },
     "execution_count": 138,
     "metadata": {},
     "output_type": "execute_result"
    }
   ],
   "source": [
    "lists_no"
   ]
  },
  {
   "cell_type": "code",
   "execution_count": 140,
   "metadata": {},
   "outputs": [
    {
     "data": {
      "text/plain": [
       "[1474,\n",
       " 8172,\n",
       " 16455,\n",
       " 31797,\n",
       " 38386,\n",
       " 33892,\n",
       " 29083,\n",
       " 22929,\n",
       " 17074,\n",
       " 12494,\n",
       " 9629,\n",
       " 7609,\n",
       " 1839]"
      ]
     },
     "execution_count": 140,
     "metadata": {},
     "output_type": "execute_result"
    }
   ],
   "source": [
    " \n",
    " lists_yes"
   ]
  },
  {
   "cell_type": "code",
   "execution_count": null,
   "metadata": {},
   "outputs": [],
   "source": []
  }
 ],
 "metadata": {
  "kernelspec": {
   "display_name": "Python 3",
   "language": "python",
   "name": "python3"
  },
  "language_info": {
   "codemirror_mode": {
    "name": "ipython",
    "version": 3
   },
   "file_extension": ".py",
   "mimetype": "text/x-python",
   "name": "python",
   "nbconvert_exporter": "python",
   "pygments_lexer": "ipython3",
   "version": "3.6.5"
  }
 },
 "nbformat": 4,
 "nbformat_minor": 2
}
