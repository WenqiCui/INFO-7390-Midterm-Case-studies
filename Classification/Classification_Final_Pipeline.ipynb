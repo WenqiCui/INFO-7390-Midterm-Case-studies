{
 "cells": [
  {
   "cell_type": "code",
   "execution_count": 46,
   "metadata": {},
   "outputs": [],
   "source": [
    "import os\n",
    "import shutil\n",
    "import pandas as pd\n",
    "import matplotlib.pyplot as plt\n",
    "from configparser import ConfigParser\n",
    "import requests\n",
    "from bs4 import BeautifulSoup\n",
    "import http.cookiejar\n",
    "from sklearn.ensemble import RandomForestClassifier\n",
    "from sklearn.metrics import confusion_matrix\n",
    "from sklearn.metrics import roc_curve,auc"
   ]
  },
  {
   "cell_type": "code",
   "execution_count": 33,
   "metadata": {},
   "outputs": [],
   "source": [
    "#Get input from configuration\n",
    "url = 'https://freddiemac.embs.com/FLoan/Data/download.php'\n",
    "\n",
    "cfg = ConfigParser()\n",
    "cfg.read('classification.config')\n",
    "value = cfg.get('cookie','value')\n",
    "docu = cfg.get('file','name')"
   ]
  },
  {
   "cell_type": "code",
   "execution_count": 28,
   "metadata": {},
   "outputs": [],
   "source": [
    "if len(docu)!=6 :\n",
    "    raise Exception(\"File name error\")\n",
    "    exit()\n"
   ]
  },
  {
   "cell_type": "code",
   "execution_count": 29,
   "metadata": {},
   "outputs": [],
   "source": [
    "docu2=''\n",
    "if docu[1]=='4':\n",
    "    docu2 = docu[0]+'1'+str(int(docu[2:])+1)\n",
    "else:\n",
    "    docu2 = docu[0]+str(int(docu[1])+1)+docu[2:]\n",
    "dww=[docu,docu2]        "
   ]
  },
  {
   "cell_type": "code",
   "execution_count": 34,
   "metadata": {},
   "outputs": [],
   "source": [
    "cookie={'PHPSESSID': value}\n",
    "\n",
    "r = requests.post(url,cookies=cookie)\n",
    "content=r.content\n",
    "soup = BeautifulSoup(content,'lxml')\n",
    "all_href = soup.find_all('a')\n",
    "i=0;\n",
    "lod=len(dww)\n",
    "url_list=['https://freddiemac.embs.com/FLoan/Data/']*lod\n",
    "\n",
    "for href in all_href:\n",
    "    for s in dww:\n",
    "        if s in href['href']:\n",
    "            url_list[i]=url_list[i]+href['href']\n",
    "            i+=1    \n"
   ]
  },
  {
   "cell_type": "code",
   "execution_count": 35,
   "metadata": {},
   "outputs": [],
   "source": [
    "if len(all_href)==0:\n",
    "     raise Exception(\"Login error\")   "
   ]
  },
  {
   "cell_type": "code",
   "execution_count": 36,
   "metadata": {},
   "outputs": [],
   "source": [
    "if (not os.path.exists('data')):\n",
    "    os.mkdir('data')\n",
    "os.chdir('data')\n",
    "for i in range(len(url_list)):\n",
    "    r = requests.get(url_list[i],cookies=cookie)\n",
    "    with open(url_list[i][71:77]+'.zip','wb') as code:\n",
    "        code.write(r.content)\n",
    "files= os.listdir()\n",
    "for file in files:\n",
    "    if '.zip' in file:\n",
    "        shutil.unpack_archive(file)\n",
    "os.chdir('..')"
   ]
  },
  {
   "cell_type": "code",
   "execution_count": 37,
   "metadata": {},
   "outputs": [],
   "source": [
    "file1=\"data/historical_data1_time_\"+docu+\".txt\"\n",
    "file2=\"data/historical_data1_time_\"+docu2+\".txt\""
   ]
  },
  {
   "cell_type": "code",
   "execution_count": 38,
   "metadata": {},
   "outputs": [
    {
     "name": "stderr",
     "output_type": "stream",
     "text": [
      "C:\\Users\\wenqi\\Anaconda3\\lib\\site-packages\\IPython\\core\\interactiveshell.py:2785: DtypeWarning: Columns (3,7,14,23) have mixed types. Specify dtype option on import or set low_memory=False.\n",
      "  interactivity=interactivity, compiler=compiler, result=result)\n"
     ]
    }
   ],
   "source": [
    "data = pd.read_csv(file1,sep=\"|\",header=None)\n",
    "data.columns = [\"LOAN SEQUENCE NUMBER\",\"MONTHLY REPORTING PERIOD\",\"CURRENT ACTUAL UPB\",\"CURRENT LOAN DELINQUENCY STATUS\"\n",
    "                ,\"LOAN AGE\",\n",
    "               \"REMAINING MONTHS TO LEGAL MATURITY\",\"REPURCHASE FLAG\",\"MODIFICATION FLAG\"\n",
    "                ,\"ZERO BALANCE CODE\",\"ZERO BALANCE EFFECTIVE DATE\",\n",
    "               \"CURRENT INTEREST RATE\",\"CURRENT DEFERRED UPB\",\"DUE DATE OF LAST PAID INSTALLMENT (DDLPI)\"\n",
    "                ,\"MI RECOVERIES\",\"NET SALES PROCEEDS\",\n",
    "               \"NON MI RECOVERIES\",\"EXPENSES\",\"LEGAL COSTS\",\"MAINTENANCE AND PRESERVATION COSTS\"\n",
    "                ,\"TAXES AND INSURANCE\",\"MISCELLANEOUS EXPENSES\",\n",
    "               \"ACTUAL LOSS CALCULATION\",\"MODIFICATION COST\",\"STEP MODIFICATION FLAG\"\n",
    "                ,\"DEFERRED PAYMENT MODIFICATION\",\"ESTIMATED LOAN TO VALUE (ELTV)\"]"
   ]
  },
  {
   "cell_type": "code",
   "execution_count": 40,
   "metadata": {},
   "outputs": [
    {
     "name": "stderr",
     "output_type": "stream",
     "text": [
      "C:\\Users\\wenqi\\Anaconda3\\lib\\site-packages\\IPython\\core\\interactiveshell.py:2785: DtypeWarning: Columns (3,7,14,23) have mixed types. Specify dtype option on import or set low_memory=False.\n",
      "  interactivity=interactivity, compiler=compiler, result=result)\n"
     ]
    }
   ],
   "source": [
    "vali = pd.read_csv(file2,sep=\"|\",header=None)\n",
    "vali.columns = [\"LOAN SEQUENCE NUMBER\",\"MONTHLY REPORTING PERIOD\",\"CURRENT ACTUAL UPB\",\"CURRENT LOAN DELINQUENCY STATUS\"\n",
    "                ,\"LOAN AGE\",\n",
    "               \"REMAINING MONTHS TO LEGAL MATURITY\",\"REPURCHASE FLAG\",\"MODIFICATION FLAG\"\n",
    "                ,\"ZERO BALANCE CODE\",\"ZERO BALANCE EFFECTIVE DATE\",\n",
    "               \"CURRENT INTEREST RATE\",\"CURRENT DEFERRED UPB\",\"DUE DATE OF LAST PAID INSTALLMENT (DDLPI)\"\n",
    "                ,\"MI RECOVERIES\",\"NET SALES PROCEEDS\",\n",
    "               \"NON MI RECOVERIES\",\"EXPENSES\",\"LEGAL COSTS\",\"MAINTENANCE AND PRESERVATION COSTS\"\n",
    "                ,\"TAXES AND INSURANCE\",\"MISCELLANEOUS EXPENSES\",\n",
    "               \"ACTUAL LOSS CALCULATION\",\"MODIFICATION COST\",\"STEP MODIFICATION FLAG\"\n",
    "                ,\"DEFERRED PAYMENT MODIFICATION\",\"ESTIMATED LOAN TO VALUE (ELTV)\"]"
   ]
  },
  {
   "cell_type": "code",
   "execution_count": 41,
   "metadata": {},
   "outputs": [],
   "source": [
    "def preprocessing(data):\n",
    "    data['Delinquent']=[0 if x == '0' else 1 for x in data['CURRENT LOAN DELINQUENCY STATUS']]\n",
    "    data.drop(['LOAN SEQUENCE NUMBER','REPURCHASE FLAG','CURRENT LOAN DELINQUENCY STATUS','MODIFICATION FLAG','ZERO BALANCE CODE'\n",
    "           ,'ZERO BALANCE EFFECTIVE DATE','DUE DATE OF LAST PAID INSTALLMENT (DDLPI)','MI RECOVERIES'\n",
    "          ,'NET SALES PROCEEDS','NON MI RECOVERIES','EXPENSES','LEGAL COSTS','MAINTENANCE AND PRESERVATION COSTS'\n",
    "          ,'TAXES AND INSURANCE','MISCELLANEOUS EXPENSES','ACTUAL LOSS CALCULATION','MODIFICATION COST'\n",
    "          ,'STEP MODIFICATION FLAG','ESTIMATED LOAN TO VALUE (ELTV)'],axis=1,inplace=True)\n",
    "    dictionary_25 = {'Y':1,'N':0,' ':-1}\n",
    "    data['DEFERRED PAYMENT MODIFICATION'] = [dictionary_25[x] for x in data['DEFERRED PAYMENT MODIFICATION']]\n",
    "    return data\n",
    "    "
   ]
  },
  {
   "cell_type": "code",
   "execution_count": 42,
   "metadata": {},
   "outputs": [
    {
     "name": "stderr",
     "output_type": "stream",
     "text": [
      "C:\\Users\\wenqi\\Anaconda3\\lib\\site-packages\\ipykernel_launcher.py:2: SettingWithCopyWarning: \n",
      "A value is trying to be set on a copy of a slice from a DataFrame.\n",
      "Try using .loc[row_indexer,col_indexer] = value instead\n",
      "\n",
      "See the caveats in the documentation: http://pandas.pydata.org/pandas-docs/stable/indexing.html#indexing-view-versus-copy\n",
      "  \n",
      "C:\\Users\\wenqi\\Anaconda3\\lib\\site-packages\\pandas\\core\\frame.py:3694: SettingWithCopyWarning: \n",
      "A value is trying to be set on a copy of a slice from a DataFrame\n",
      "\n",
      "See the caveats in the documentation: http://pandas.pydata.org/pandas-docs/stable/indexing.html#indexing-view-versus-copy\n",
      "  errors=errors)\n",
      "C:\\Users\\wenqi\\Anaconda3\\lib\\site-packages\\ipykernel_launcher.py:9: SettingWithCopyWarning: \n",
      "A value is trying to be set on a copy of a slice from a DataFrame.\n",
      "Try using .loc[row_indexer,col_indexer] = value instead\n",
      "\n",
      "See the caveats in the documentation: http://pandas.pydata.org/pandas-docs/stable/indexing.html#indexing-view-versus-copy\n",
      "  if __name__ == '__main__':\n"
     ]
    }
   ],
   "source": [
    "train_data=data[:300000]\n",
    "train_data = preprocessing(train_data)\n",
    "vali_data=vali[:300000]\n",
    "vali_data = preprocessing(vali_data)"
   ]
  },
  {
   "cell_type": "code",
   "execution_count": 43,
   "metadata": {},
   "outputs": [],
   "source": [
    "train_x = train_data.drop('Delinquent',axis=1)\n",
    "train_y = train_data['Delinquent']\n",
    "test_x = vali_data.drop('Delinquent',axis=1)\n",
    "test_y = vali_data['Delinquent']"
   ]
  },
  {
   "cell_type": "code",
   "execution_count": 47,
   "metadata": {},
   "outputs": [
    {
     "name": "stdout",
     "output_type": "stream",
     "text": [
      "TN:  285600\n",
      "FP:  526\n",
      "FN:  13325\n",
      "TP:  549\n"
     ]
    }
   ],
   "source": [
    "rf = RandomForestClassifier(max_depth=7,n_estimators=100)\n",
    "rf.fit(train_x,train_y)\n",
    "pred_y = rf.predict(test_x)\n",
    "cm=confusion_matrix(test_y,pred_y)\n",
    "tn, fp, fn, tp = cm.ravel()\n",
    "print('TN: ',tn)\n",
    "print('FP: ',fp)\n",
    "print('FN: ',fn)\n",
    "print('TP: ',tp)"
   ]
  },
  {
   "cell_type": "code",
   "execution_count": 52,
   "metadata": {},
   "outputs": [
    {
     "name": "stdout",
     "output_type": "stream",
     "text": [
      "Number of Actual Delinquents: 13874\n",
      "Number of Predicted Delinquents: 1075\n",
      "Number of records in the dataset: 300000\n",
      "Number of Delinquents properly classified: 549\n",
      "Number of nondelinquents improperly classified as delinquents: 526\n"
     ]
    }
   ],
   "source": [
    "print('Number of Actual Delinquents:', tp+fn)\n",
    "print('Number of Predicted Delinquents:',  tp+fp)\n",
    "print('Number of records in the dataset:',  tn+tp+fn+fp)\n",
    "print('Number of Delinquents properly classified:',  tp)\n",
    "print('Number of nondelinquents improperly classified as delinquents:',  fp)"
   ]
  },
  {
   "cell_type": "code",
   "execution_count": null,
   "metadata": {},
   "outputs": [],
   "source": []
  }
 ],
 "metadata": {
  "kernelspec": {
   "display_name": "Python 3",
   "language": "python",
   "name": "python3"
  },
  "language_info": {
   "codemirror_mode": {
    "name": "ipython",
    "version": 3
   },
   "file_extension": ".py",
   "mimetype": "text/x-python",
   "name": "python",
   "nbconvert_exporter": "python",
   "pygments_lexer": "ipython3",
   "version": "3.6.5"
  }
 },
 "nbformat": 4,
 "nbformat_minor": 2
}
